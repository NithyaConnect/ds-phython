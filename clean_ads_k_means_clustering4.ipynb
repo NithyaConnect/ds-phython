{
  "nbformat": 4,
  "nbformat_minor": 0,
  "metadata": {
    "colab": {
      "provenance": [],
      "include_colab_link": true
    },
    "kernelspec": {
      "name": "python3",
      "display_name": "Python 3"
    }
  },
  "cells": [
    {
      "cell_type": "markdown",
      "metadata": {
        "id": "view-in-github",
        "colab_type": "text"
      },
      "source": [
        "<a href=\"https://colab.research.google.com/github/NithyaConnect/ds-phython/blob/main/clean_ads_k_means_clustering4.ipynb\" target=\"_parent\"><img src=\"https://colab.research.google.com/assets/colab-badge.svg\" alt=\"Open In Colab\"/></a>"
      ]
    },
    {
      "cell_type": "markdown",
      "metadata": {
        "id": "i_paGd_yLbgH"
      },
      "source": [
        "# K-Means Clustering with clean ads data\n",
        "\n",
        "\n",
        "\n",
        "\n"
      ]
    },
    {
      "cell_type": "code",
      "source": [
        "from google.colab import drive\n",
        "drive.mount('/content/drive')\n",
        "\n"
      ],
      "metadata": {
        "id": "L4eKz695JOHl",
        "colab": {
          "base_uri": "https://localhost:8080/"
        },
        "outputId": "dfdbc615-86eb-41b5-9f7c-f0156d1e7153"
      },
      "execution_count": null,
      "outputs": [
        {
          "output_type": "stream",
          "name": "stdout",
          "text": [
            "Drive already mounted at /content/drive; to attempt to forcibly remount, call drive.mount(\"/content/drive\", force_remount=True).\n"
          ]
        }
      ]
    },
    {
      "cell_type": "code",
      "metadata": {
        "id": "yUXGcC4KLmcL"
      },
      "source": [
        "import numpy as np\n",
        "import matplotlib.pyplot as plt\n",
        "import pandas as pd\n",
        "import seaborn as sns"
      ],
      "execution_count": null,
      "outputs": []
    },
    {
      "cell_type": "markdown",
      "metadata": {
        "id": "5LciKOr8Lo5O"
      },
      "source": [
        "## Importing the dataset"
      ]
    },
    {
      "cell_type": "code",
      "source": [
        "path=\"/content/drive/MyDrive/clusterring glearn/Addata.xlsx\" \n",
        "df_test=pd.read_excel(path)\n",
        "df=df_test"
      ],
      "metadata": {
        "id": "xHgjuf9rLNBO"
      },
      "execution_count": null,
      "outputs": []
    },
    {
      "cell_type": "code",
      "source": [
        "df.info()"
      ],
      "metadata": {
        "colab": {
          "base_uri": "https://localhost:8080/"
        },
        "id": "gcFUgSJDwUhw",
        "outputId": "f33a83eb-0945-419e-de70-76a759355527"
      },
      "execution_count": null,
      "outputs": [
        {
          "output_type": "stream",
          "name": "stdout",
          "text": [
            "<class 'pandas.core.frame.DataFrame'>\n",
            "RangeIndex: 23066 entries, 0 to 23065\n",
            "Data columns (total 19 columns):\n",
            " #   Column                 Non-Null Count  Dtype  \n",
            "---  ------                 --------------  -----  \n",
            " 0   Timestamp              23066 non-null  object \n",
            " 1   InventoryType          23066 non-null  object \n",
            " 2   Ad - Length            23066 non-null  int64  \n",
            " 3   Ad- Width              23066 non-null  int64  \n",
            " 4   Ad Size                23066 non-null  int64  \n",
            " 5   Ad Type                23066 non-null  object \n",
            " 6   Platform               23066 non-null  object \n",
            " 7   Device Type            23066 non-null  object \n",
            " 8   Format                 23066 non-null  object \n",
            " 9   Available_Impressions  23066 non-null  int64  \n",
            " 10  Matched_Queries        23066 non-null  int64  \n",
            " 11  Impressions            23066 non-null  int64  \n",
            " 12  Clicks                 23066 non-null  int64  \n",
            " 13  Spend                  23066 non-null  float64\n",
            " 14  Fee                    23066 non-null  float64\n",
            " 15  Revenue                23066 non-null  float64\n",
            " 16  CTR                    18330 non-null  float64\n",
            " 17  CPM                    18330 non-null  float64\n",
            " 18  CPC                    18330 non-null  float64\n",
            "dtypes: float64(6), int64(7), object(6)\n",
            "memory usage: 3.3+ MB\n"
          ]
        }
      ]
    },
    {
      "cell_type": "code",
      "source": [
        "df.hist(bins=25, figsize=(20,20), layout=(-1, 5), edgecolor=\"black\")\n",
        "plt.tight_layout();\n"
      ],
      "metadata": {
        "id": "5KDgvF1rZSAv"
      },
      "execution_count": null,
      "outputs": []
    },
    {
      "cell_type": "code",
      "source": [
        "df.shape"
      ],
      "metadata": {
        "id": "v1gZSw4eY177"
      },
      "execution_count": null,
      "outputs": []
    },
    {
      "cell_type": "code",
      "source": [
        "nan_df = df[df.isna().any(axis=1)]\n",
        "display(nan_df.head())\n",
        "\n",
        "\n"
      ],
      "metadata": {
        "colab": {
          "base_uri": "https://localhost:8080/",
          "height": 374
        },
        "id": "NRyEjg07XJZh",
        "outputId": "34f68e64-46bf-4df4-fc6b-f7f02b584ecb"
      },
      "execution_count": null,
      "outputs": [
        {
          "output_type": "display_data",
          "data": {
            "text/plain": [
              "        Timestamp InventoryType  Ad - Length  Ad- Width  Ad Size   Ad Type  \\\n",
              "71  2020-10-29-18       Format1          300        250    75000  Inter217   \n",
              "72   2020-10-30-6       Format1          300        250    75000  inter230   \n",
              "73  2020-10-28-21       Format1          300        250    75000  Inter217   \n",
              "74  2020-10-28-19       Format1          300        250    75000  Inter224   \n",
              "75   2020-11-6-22       Format1          300        250    75000  Inter229   \n",
              "\n",
              "   Platform Device Type   Format  Available_Impressions  Matched_Queries  \\\n",
              "71      Web     Desktop  Display                   1335              311   \n",
              "72    Video      Mobile    Video                    857              124   \n",
              "73      Web     Desktop  Display                   1789              306   \n",
              "74      Web     Desktop    Video                   1784              274   \n",
              "75    Video     Desktop  Display                   2095              379   \n",
              "\n",
              "    Impressions  Clicks  Spend   Fee  Revenue  CTR  CPM  CPC  \n",
              "71          311       1    0.0  0.35      0.0  NaN  NaN  NaN  \n",
              "72          124       1    0.0  0.35      0.0  NaN  NaN  NaN  \n",
              "73          300       1    0.0  0.35      0.0  NaN  NaN  NaN  \n",
              "74          274       1    0.0  0.35      0.0  NaN  NaN  NaN  \n",
              "75          375       1    0.0  0.35      0.0  NaN  NaN  NaN  "
            ],
            "text/html": [
              "\n",
              "  <div id=\"df-4bf01bb2-3476-4ff3-8d18-24348b7529f0\">\n",
              "    <div class=\"colab-df-container\">\n",
              "      <div>\n",
              "<style scoped>\n",
              "    .dataframe tbody tr th:only-of-type {\n",
              "        vertical-align: middle;\n",
              "    }\n",
              "\n",
              "    .dataframe tbody tr th {\n",
              "        vertical-align: top;\n",
              "    }\n",
              "\n",
              "    .dataframe thead th {\n",
              "        text-align: right;\n",
              "    }\n",
              "</style>\n",
              "<table border=\"1\" class=\"dataframe\">\n",
              "  <thead>\n",
              "    <tr style=\"text-align: right;\">\n",
              "      <th></th>\n",
              "      <th>Timestamp</th>\n",
              "      <th>InventoryType</th>\n",
              "      <th>Ad - Length</th>\n",
              "      <th>Ad- Width</th>\n",
              "      <th>Ad Size</th>\n",
              "      <th>Ad Type</th>\n",
              "      <th>Platform</th>\n",
              "      <th>Device Type</th>\n",
              "      <th>Format</th>\n",
              "      <th>Available_Impressions</th>\n",
              "      <th>Matched_Queries</th>\n",
              "      <th>Impressions</th>\n",
              "      <th>Clicks</th>\n",
              "      <th>Spend</th>\n",
              "      <th>Fee</th>\n",
              "      <th>Revenue</th>\n",
              "      <th>CTR</th>\n",
              "      <th>CPM</th>\n",
              "      <th>CPC</th>\n",
              "    </tr>\n",
              "  </thead>\n",
              "  <tbody>\n",
              "    <tr>\n",
              "      <th>71</th>\n",
              "      <td>2020-10-29-18</td>\n",
              "      <td>Format1</td>\n",
              "      <td>300</td>\n",
              "      <td>250</td>\n",
              "      <td>75000</td>\n",
              "      <td>Inter217</td>\n",
              "      <td>Web</td>\n",
              "      <td>Desktop</td>\n",
              "      <td>Display</td>\n",
              "      <td>1335</td>\n",
              "      <td>311</td>\n",
              "      <td>311</td>\n",
              "      <td>1</td>\n",
              "      <td>0.0</td>\n",
              "      <td>0.35</td>\n",
              "      <td>0.0</td>\n",
              "      <td>NaN</td>\n",
              "      <td>NaN</td>\n",
              "      <td>NaN</td>\n",
              "    </tr>\n",
              "    <tr>\n",
              "      <th>72</th>\n",
              "      <td>2020-10-30-6</td>\n",
              "      <td>Format1</td>\n",
              "      <td>300</td>\n",
              "      <td>250</td>\n",
              "      <td>75000</td>\n",
              "      <td>inter230</td>\n",
              "      <td>Video</td>\n",
              "      <td>Mobile</td>\n",
              "      <td>Video</td>\n",
              "      <td>857</td>\n",
              "      <td>124</td>\n",
              "      <td>124</td>\n",
              "      <td>1</td>\n",
              "      <td>0.0</td>\n",
              "      <td>0.35</td>\n",
              "      <td>0.0</td>\n",
              "      <td>NaN</td>\n",
              "      <td>NaN</td>\n",
              "      <td>NaN</td>\n",
              "    </tr>\n",
              "    <tr>\n",
              "      <th>73</th>\n",
              "      <td>2020-10-28-21</td>\n",
              "      <td>Format1</td>\n",
              "      <td>300</td>\n",
              "      <td>250</td>\n",
              "      <td>75000</td>\n",
              "      <td>Inter217</td>\n",
              "      <td>Web</td>\n",
              "      <td>Desktop</td>\n",
              "      <td>Display</td>\n",
              "      <td>1789</td>\n",
              "      <td>306</td>\n",
              "      <td>300</td>\n",
              "      <td>1</td>\n",
              "      <td>0.0</td>\n",
              "      <td>0.35</td>\n",
              "      <td>0.0</td>\n",
              "      <td>NaN</td>\n",
              "      <td>NaN</td>\n",
              "      <td>NaN</td>\n",
              "    </tr>\n",
              "    <tr>\n",
              "      <th>74</th>\n",
              "      <td>2020-10-28-19</td>\n",
              "      <td>Format1</td>\n",
              "      <td>300</td>\n",
              "      <td>250</td>\n",
              "      <td>75000</td>\n",
              "      <td>Inter224</td>\n",
              "      <td>Web</td>\n",
              "      <td>Desktop</td>\n",
              "      <td>Video</td>\n",
              "      <td>1784</td>\n",
              "      <td>274</td>\n",
              "      <td>274</td>\n",
              "      <td>1</td>\n",
              "      <td>0.0</td>\n",
              "      <td>0.35</td>\n",
              "      <td>0.0</td>\n",
              "      <td>NaN</td>\n",
              "      <td>NaN</td>\n",
              "      <td>NaN</td>\n",
              "    </tr>\n",
              "    <tr>\n",
              "      <th>75</th>\n",
              "      <td>2020-11-6-22</td>\n",
              "      <td>Format1</td>\n",
              "      <td>300</td>\n",
              "      <td>250</td>\n",
              "      <td>75000</td>\n",
              "      <td>Inter229</td>\n",
              "      <td>Video</td>\n",
              "      <td>Desktop</td>\n",
              "      <td>Display</td>\n",
              "      <td>2095</td>\n",
              "      <td>379</td>\n",
              "      <td>375</td>\n",
              "      <td>1</td>\n",
              "      <td>0.0</td>\n",
              "      <td>0.35</td>\n",
              "      <td>0.0</td>\n",
              "      <td>NaN</td>\n",
              "      <td>NaN</td>\n",
              "      <td>NaN</td>\n",
              "    </tr>\n",
              "  </tbody>\n",
              "</table>\n",
              "</div>\n",
              "      <button class=\"colab-df-convert\" onclick=\"convertToInteractive('df-4bf01bb2-3476-4ff3-8d18-24348b7529f0')\"\n",
              "              title=\"Convert this dataframe to an interactive table.\"\n",
              "              style=\"display:none;\">\n",
              "        \n",
              "  <svg xmlns=\"http://www.w3.org/2000/svg\" height=\"24px\"viewBox=\"0 0 24 24\"\n",
              "       width=\"24px\">\n",
              "    <path d=\"M0 0h24v24H0V0z\" fill=\"none\"/>\n",
              "    <path d=\"M18.56 5.44l.94 2.06.94-2.06 2.06-.94-2.06-.94-.94-2.06-.94 2.06-2.06.94zm-11 1L8.5 8.5l.94-2.06 2.06-.94-2.06-.94L8.5 2.5l-.94 2.06-2.06.94zm10 10l.94 2.06.94-2.06 2.06-.94-2.06-.94-.94-2.06-.94 2.06-2.06.94z\"/><path d=\"M17.41 7.96l-1.37-1.37c-.4-.4-.92-.59-1.43-.59-.52 0-1.04.2-1.43.59L10.3 9.45l-7.72 7.72c-.78.78-.78 2.05 0 2.83L4 21.41c.39.39.9.59 1.41.59.51 0 1.02-.2 1.41-.59l7.78-7.78 2.81-2.81c.8-.78.8-2.07 0-2.86zM5.41 20L4 18.59l7.72-7.72 1.47 1.35L5.41 20z\"/>\n",
              "  </svg>\n",
              "      </button>\n",
              "      \n",
              "  <style>\n",
              "    .colab-df-container {\n",
              "      display:flex;\n",
              "      flex-wrap:wrap;\n",
              "      gap: 12px;\n",
              "    }\n",
              "\n",
              "    .colab-df-convert {\n",
              "      background-color: #E8F0FE;\n",
              "      border: none;\n",
              "      border-radius: 50%;\n",
              "      cursor: pointer;\n",
              "      display: none;\n",
              "      fill: #1967D2;\n",
              "      height: 32px;\n",
              "      padding: 0 0 0 0;\n",
              "      width: 32px;\n",
              "    }\n",
              "\n",
              "    .colab-df-convert:hover {\n",
              "      background-color: #E2EBFA;\n",
              "      box-shadow: 0px 1px 2px rgba(60, 64, 67, 0.3), 0px 1px 3px 1px rgba(60, 64, 67, 0.15);\n",
              "      fill: #174EA6;\n",
              "    }\n",
              "\n",
              "    [theme=dark] .colab-df-convert {\n",
              "      background-color: #3B4455;\n",
              "      fill: #D2E3FC;\n",
              "    }\n",
              "\n",
              "    [theme=dark] .colab-df-convert:hover {\n",
              "      background-color: #434B5C;\n",
              "      box-shadow: 0px 1px 3px 1px rgba(0, 0, 0, 0.15);\n",
              "      filter: drop-shadow(0px 1px 2px rgba(0, 0, 0, 0.3));\n",
              "      fill: #FFFFFF;\n",
              "    }\n",
              "  </style>\n",
              "\n",
              "      <script>\n",
              "        const buttonEl =\n",
              "          document.querySelector('#df-4bf01bb2-3476-4ff3-8d18-24348b7529f0 button.colab-df-convert');\n",
              "        buttonEl.style.display =\n",
              "          google.colab.kernel.accessAllowed ? 'block' : 'none';\n",
              "\n",
              "        async function convertToInteractive(key) {\n",
              "          const element = document.querySelector('#df-4bf01bb2-3476-4ff3-8d18-24348b7529f0');\n",
              "          const dataTable =\n",
              "            await google.colab.kernel.invokeFunction('convertToInteractive',\n",
              "                                                     [key], {});\n",
              "          if (!dataTable) return;\n",
              "\n",
              "          const docLinkHtml = 'Like what you see? Visit the ' +\n",
              "            '<a target=\"_blank\" href=https://colab.research.google.com/notebooks/data_table.ipynb>data table notebook</a>'\n",
              "            + ' to learn more about interactive tables.';\n",
              "          element.innerHTML = '';\n",
              "          dataTable['output_type'] = 'display_data';\n",
              "          await google.colab.output.renderOutput(dataTable, element);\n",
              "          const docLink = document.createElement('div');\n",
              "          docLink.innerHTML = docLinkHtml;\n",
              "          element.appendChild(docLink);\n",
              "        }\n",
              "      </script>\n",
              "    </div>\n",
              "  </div>\n",
              "  "
            ]
          },
          "metadata": {}
        }
      ]
    },
    {
      "cell_type": "code",
      "source": [
        "df=df.dropna()\n"
      ],
      "metadata": {
        "id": "mbh1zI2OXWlQ"
      },
      "execution_count": null,
      "outputs": []
    },
    {
      "cell_type": "code",
      "source": [
        "df.shape\n"
      ],
      "metadata": {
        "id": "kK36ONjAYbH8"
      },
      "execution_count": null,
      "outputs": []
    },
    {
      "cell_type": "code",
      "source": [
        "nan_df = df[df.isna().any(axis=1)]\n",
        "display(nan_df.head())\n",
        "\n",
        "\n"
      ],
      "metadata": {
        "colab": {
          "base_uri": "https://localhost:8080/",
          "height": 131
        },
        "outputId": "a8c94a5d-f739-4731-d729-7c5fff0a9b21",
        "id": "dLJXlarpYbbq"
      },
      "execution_count": null,
      "outputs": [
        {
          "output_type": "display_data",
          "data": {
            "text/plain": [
              "Empty DataFrame\n",
              "Columns: [Timestamp, InventoryType, Ad - Length, Ad- Width, Ad Size, Ad Type, Platform, Device Type, Format, Available_Impressions, Matched_Queries, Impressions, Clicks, Spend, Fee, Revenue, CTR, CPM, CPC]\n",
              "Index: []"
            ],
            "text/html": [
              "\n",
              "  <div id=\"df-26494dd7-2c8a-4af4-91be-2884c81681ac\">\n",
              "    <div class=\"colab-df-container\">\n",
              "      <div>\n",
              "<style scoped>\n",
              "    .dataframe tbody tr th:only-of-type {\n",
              "        vertical-align: middle;\n",
              "    }\n",
              "\n",
              "    .dataframe tbody tr th {\n",
              "        vertical-align: top;\n",
              "    }\n",
              "\n",
              "    .dataframe thead th {\n",
              "        text-align: right;\n",
              "    }\n",
              "</style>\n",
              "<table border=\"1\" class=\"dataframe\">\n",
              "  <thead>\n",
              "    <tr style=\"text-align: right;\">\n",
              "      <th></th>\n",
              "      <th>Timestamp</th>\n",
              "      <th>InventoryType</th>\n",
              "      <th>Ad - Length</th>\n",
              "      <th>Ad- Width</th>\n",
              "      <th>Ad Size</th>\n",
              "      <th>Ad Type</th>\n",
              "      <th>Platform</th>\n",
              "      <th>Device Type</th>\n",
              "      <th>Format</th>\n",
              "      <th>Available_Impressions</th>\n",
              "      <th>Matched_Queries</th>\n",
              "      <th>Impressions</th>\n",
              "      <th>Clicks</th>\n",
              "      <th>Spend</th>\n",
              "      <th>Fee</th>\n",
              "      <th>Revenue</th>\n",
              "      <th>CTR</th>\n",
              "      <th>CPM</th>\n",
              "      <th>CPC</th>\n",
              "    </tr>\n",
              "  </thead>\n",
              "  <tbody>\n",
              "  </tbody>\n",
              "</table>\n",
              "</div>\n",
              "      <button class=\"colab-df-convert\" onclick=\"convertToInteractive('df-26494dd7-2c8a-4af4-91be-2884c81681ac')\"\n",
              "              title=\"Convert this dataframe to an interactive table.\"\n",
              "              style=\"display:none;\">\n",
              "        \n",
              "  <svg xmlns=\"http://www.w3.org/2000/svg\" height=\"24px\"viewBox=\"0 0 24 24\"\n",
              "       width=\"24px\">\n",
              "    <path d=\"M0 0h24v24H0V0z\" fill=\"none\"/>\n",
              "    <path d=\"M18.56 5.44l.94 2.06.94-2.06 2.06-.94-2.06-.94-.94-2.06-.94 2.06-2.06.94zm-11 1L8.5 8.5l.94-2.06 2.06-.94-2.06-.94L8.5 2.5l-.94 2.06-2.06.94zm10 10l.94 2.06.94-2.06 2.06-.94-2.06-.94-.94-2.06-.94 2.06-2.06.94z\"/><path d=\"M17.41 7.96l-1.37-1.37c-.4-.4-.92-.59-1.43-.59-.52 0-1.04.2-1.43.59L10.3 9.45l-7.72 7.72c-.78.78-.78 2.05 0 2.83L4 21.41c.39.39.9.59 1.41.59.51 0 1.02-.2 1.41-.59l7.78-7.78 2.81-2.81c.8-.78.8-2.07 0-2.86zM5.41 20L4 18.59l7.72-7.72 1.47 1.35L5.41 20z\"/>\n",
              "  </svg>\n",
              "      </button>\n",
              "      \n",
              "  <style>\n",
              "    .colab-df-container {\n",
              "      display:flex;\n",
              "      flex-wrap:wrap;\n",
              "      gap: 12px;\n",
              "    }\n",
              "\n",
              "    .colab-df-convert {\n",
              "      background-color: #E8F0FE;\n",
              "      border: none;\n",
              "      border-radius: 50%;\n",
              "      cursor: pointer;\n",
              "      display: none;\n",
              "      fill: #1967D2;\n",
              "      height: 32px;\n",
              "      padding: 0 0 0 0;\n",
              "      width: 32px;\n",
              "    }\n",
              "\n",
              "    .colab-df-convert:hover {\n",
              "      background-color: #E2EBFA;\n",
              "      box-shadow: 0px 1px 2px rgba(60, 64, 67, 0.3), 0px 1px 3px 1px rgba(60, 64, 67, 0.15);\n",
              "      fill: #174EA6;\n",
              "    }\n",
              "\n",
              "    [theme=dark] .colab-df-convert {\n",
              "      background-color: #3B4455;\n",
              "      fill: #D2E3FC;\n",
              "    }\n",
              "\n",
              "    [theme=dark] .colab-df-convert:hover {\n",
              "      background-color: #434B5C;\n",
              "      box-shadow: 0px 1px 3px 1px rgba(0, 0, 0, 0.15);\n",
              "      filter: drop-shadow(0px 1px 2px rgba(0, 0, 0, 0.3));\n",
              "      fill: #FFFFFF;\n",
              "    }\n",
              "  </style>\n",
              "\n",
              "      <script>\n",
              "        const buttonEl =\n",
              "          document.querySelector('#df-26494dd7-2c8a-4af4-91be-2884c81681ac button.colab-df-convert');\n",
              "        buttonEl.style.display =\n",
              "          google.colab.kernel.accessAllowed ? 'block' : 'none';\n",
              "\n",
              "        async function convertToInteractive(key) {\n",
              "          const element = document.querySelector('#df-26494dd7-2c8a-4af4-91be-2884c81681ac');\n",
              "          const dataTable =\n",
              "            await google.colab.kernel.invokeFunction('convertToInteractive',\n",
              "                                                     [key], {});\n",
              "          if (!dataTable) return;\n",
              "\n",
              "          const docLinkHtml = 'Like what you see? Visit the ' +\n",
              "            '<a target=\"_blank\" href=https://colab.research.google.com/notebooks/data_table.ipynb>data table notebook</a>'\n",
              "            + ' to learn more about interactive tables.';\n",
              "          element.innerHTML = '';\n",
              "          dataTable['output_type'] = 'display_data';\n",
              "          await google.colab.output.renderOutput(dataTable, element);\n",
              "          const docLink = document.createElement('div');\n",
              "          docLink.innerHTML = docLinkHtml;\n",
              "          element.appendChild(docLink);\n",
              "        }\n",
              "      </script>\n",
              "    </div>\n",
              "  </div>\n",
              "  "
            ]
          },
          "metadata": {}
        }
      ]
    },
    {
      "cell_type": "code",
      "source": [
        "# Check number of duplicates\n",
        "n_duplicates = df.duplicated().sum()\n",
        "print(f\"seem to have {n_duplicates} duplicates in database.\")\n"
      ],
      "metadata": {
        "colab": {
          "base_uri": "https://localhost:8080/"
        },
        "id": "FbZHyu3SXdlb",
        "outputId": "9e0bf582-a284-4f96-86f2-a5c5dd803f33"
      },
      "execution_count": null,
      "outputs": [
        {
          "output_type": "stream",
          "name": "stdout",
          "text": [
            "seem to have 0 duplicates in database.\n"
          ]
        }
      ]
    },
    {
      "cell_type": "code",
      "source": [
        "def calculate_cPM(x):\n",
        "    CPM=(df.Spend/df.Impressions)*1000\n",
        "    return CPM"
      ],
      "metadata": {
        "id": "pck01MCSOU6z"
      },
      "execution_count": null,
      "outputs": []
    },
    {
      "cell_type": "code",
      "source": [
        "df['CPM']= df[['CPM']].apply(lambda x:calculate_cPM(x))"
      ],
      "metadata": {
        "id": "f0FIDYjpOdX0",
        "colab": {
          "base_uri": "https://localhost:8080/"
        },
        "outputId": "26854774-8ee2-4154-f29a-8adc94d2f219"
      },
      "execution_count": null,
      "outputs": [
        {
          "output_type": "stream",
          "name": "stderr",
          "text": [
            "<ipython-input-46-c2b47c2a5cb9>:1: SettingWithCopyWarning: \n",
            "A value is trying to be set on a copy of a slice from a DataFrame.\n",
            "Try using .loc[row_indexer,col_indexer] = value instead\n",
            "\n",
            "See the caveats in the documentation: https://pandas.pydata.org/pandas-docs/stable/user_guide/indexing.html#returning-a-view-versus-a-copy\n",
            "  df['CPM']= df[['CPM']].apply(lambda x:calculate_cPM(x))\n"
          ]
        }
      ]
    },
    {
      "cell_type": "code",
      "source": [
        "def calculate_cPC(x):\n",
        "    CPC=(df.Spend/df.Clicks)\n",
        "    return CPC"
      ],
      "metadata": {
        "id": "tC4gG9kSOnYk"
      },
      "execution_count": null,
      "outputs": []
    },
    {
      "cell_type": "code",
      "source": [
        "df['CPC']= df[['CPC']].apply(lambda x:calculate_cPC(x))"
      ],
      "metadata": {
        "id": "UoekigOHOrUm",
        "colab": {
          "base_uri": "https://localhost:8080/"
        },
        "outputId": "443a0e58-00f6-4a1f-8a6f-28c6d42b7a49"
      },
      "execution_count": null,
      "outputs": [
        {
          "output_type": "stream",
          "name": "stderr",
          "text": [
            "<ipython-input-48-9568f225bfe8>:1: SettingWithCopyWarning: \n",
            "A value is trying to be set on a copy of a slice from a DataFrame.\n",
            "Try using .loc[row_indexer,col_indexer] = value instead\n",
            "\n",
            "See the caveats in the documentation: https://pandas.pydata.org/pandas-docs/stable/user_guide/indexing.html#returning-a-view-versus-a-copy\n",
            "  df['CPC']= df[['CPC']].apply(lambda x:calculate_cPC(x))\n"
          ]
        }
      ]
    },
    {
      "cell_type": "code",
      "source": [
        "def calculate_cTR(x):\n",
        "    CTR=(df.Clicks/df.Impressions*100)\n",
        "    return CTR"
      ],
      "metadata": {
        "id": "q-0kq_B_O6N8"
      },
      "execution_count": null,
      "outputs": []
    },
    {
      "cell_type": "code",
      "source": [
        "df['CTR']= df[['CTR']].apply(lambda x:calculate_cTR(x))\n"
      ],
      "metadata": {
        "id": "ZTmZhPXrO-GF",
        "colab": {
          "base_uri": "https://localhost:8080/"
        },
        "outputId": "45597294-0afa-47c0-85f2-29c2dccea68f"
      },
      "execution_count": null,
      "outputs": [
        {
          "output_type": "stream",
          "name": "stderr",
          "text": [
            "<ipython-input-50-d358f7b85e5e>:1: SettingWithCopyWarning: \n",
            "A value is trying to be set on a copy of a slice from a DataFrame.\n",
            "Try using .loc[row_indexer,col_indexer] = value instead\n",
            "\n",
            "See the caveats in the documentation: https://pandas.pydata.org/pandas-docs/stable/user_guide/indexing.html#returning-a-view-versus-a-copy\n",
            "  df['CTR']= df[['CTR']].apply(lambda x:calculate_cTR(x))\n"
          ]
        }
      ]
    },
    {
      "cell_type": "code",
      "source": [
        "df"
      ],
      "metadata": {
        "colab": {
          "base_uri": "https://localhost:8080/",
          "height": 678
        },
        "id": "k8IW_IAaPWK1",
        "outputId": "970fcc81-d0d1-45a4-a7b9-b4dd5e4bc1c6"
      },
      "execution_count": null,
      "outputs": [
        {
          "output_type": "execute_result",
          "data": {
            "text/plain": [
              "          Timestamp InventoryType  Ad - Length  Ad- Width  Ad Size   Ad Type  \\\n",
              "0       2020-9-2-17       Format1          300        250    75000  Inter222   \n",
              "1       2020-9-2-10       Format1          300        250    75000  Inter227   \n",
              "2       2020-9-1-22       Format1          300        250    75000  Inter222   \n",
              "3       2020-9-3-20       Format1          300        250    75000  Inter228   \n",
              "4       2020-9-4-15       Format1          300        250    75000  Inter217   \n",
              "...             ...           ...          ...        ...      ...       ...   \n",
              "18354   2020-11-2-6       Format6          336        250    84000  Inter229   \n",
              "18355  2020-11-1-19       Format5          720        300   216000  Inter227   \n",
              "18356  2020-11-2-13       Format6          336        250    84000  Inter228   \n",
              "18357  2020-11-2-12       Format1          300        250    75000  Inter221   \n",
              "18358   2020-11-2-0       Format6          336        250    84000  Inter224   \n",
              "\n",
              "      Platform Device Type   Format  Available_Impressions  Matched_Queries  \\\n",
              "0        Video     Desktop  Display                   1806              325   \n",
              "1          App      Mobile    Video                   1780              285   \n",
              "2        Video     Desktop  Display                   2727              356   \n",
              "3        Video      Mobile    Video                   2430              497   \n",
              "4          Web     Desktop    Video                   1218              242   \n",
              "...        ...         ...      ...                    ...              ...   \n",
              "18354    Video     Desktop    Video                  80771            45701   \n",
              "18355      App      Mobile  Display                 505442           196734   \n",
              "18356    Video      Mobile  Display                 169677            99969   \n",
              "18357      App      Mobile  Display                3955744          2028909   \n",
              "18358      Web     Desktop  Display                2503645          1054558   \n",
              "\n",
              "       Impressions  Clicks    Spend   Fee    Revenue        CTR        CPM  \\\n",
              "0              323       1     0.00  0.35     0.0000   0.309598   0.000000   \n",
              "1              285       1     0.00  0.35     0.0000   0.350877   0.000000   \n",
              "2              355       1     0.00  0.35     0.0000   0.281690   0.000000   \n",
              "3              495       1     0.00  0.35     0.0000   0.202020   0.000000   \n",
              "4              242       1     0.00  0.35     0.0000   0.413223   0.000000   \n",
              "...            ...     ...      ...   ...        ...        ...        ...   \n",
              "18354        39115    5346   481.59  0.35   313.0335  13.667391  12.312156   \n",
              "18355       169895   25169  1491.26  0.35   969.3190  14.814444   8.777539   \n",
              "18356        84664   15807   794.39  0.35   516.3535  18.670273   9.382855   \n",
              "18357      2002900    5062  3586.57  0.33  2403.0019   0.252734   1.790689   \n",
              "18358       989967    4139  1777.90  0.35  1155.6350   0.418095   1.795918   \n",
              "\n",
              "            CPC  \n",
              "0      0.000000  \n",
              "1      0.000000  \n",
              "2      0.000000  \n",
              "3      0.000000  \n",
              "4      0.000000  \n",
              "...         ...  \n",
              "18354  0.090084  \n",
              "18355  0.059250  \n",
              "18356  0.050256  \n",
              "18357  0.708528  \n",
              "18358  0.429548  \n",
              "\n",
              "[18330 rows x 19 columns]"
            ],
            "text/html": [
              "\n",
              "  <div id=\"df-f79096fd-8018-47b6-93cc-4dc4071c4ff5\">\n",
              "    <div class=\"colab-df-container\">\n",
              "      <div>\n",
              "<style scoped>\n",
              "    .dataframe tbody tr th:only-of-type {\n",
              "        vertical-align: middle;\n",
              "    }\n",
              "\n",
              "    .dataframe tbody tr th {\n",
              "        vertical-align: top;\n",
              "    }\n",
              "\n",
              "    .dataframe thead th {\n",
              "        text-align: right;\n",
              "    }\n",
              "</style>\n",
              "<table border=\"1\" class=\"dataframe\">\n",
              "  <thead>\n",
              "    <tr style=\"text-align: right;\">\n",
              "      <th></th>\n",
              "      <th>Timestamp</th>\n",
              "      <th>InventoryType</th>\n",
              "      <th>Ad - Length</th>\n",
              "      <th>Ad- Width</th>\n",
              "      <th>Ad Size</th>\n",
              "      <th>Ad Type</th>\n",
              "      <th>Platform</th>\n",
              "      <th>Device Type</th>\n",
              "      <th>Format</th>\n",
              "      <th>Available_Impressions</th>\n",
              "      <th>Matched_Queries</th>\n",
              "      <th>Impressions</th>\n",
              "      <th>Clicks</th>\n",
              "      <th>Spend</th>\n",
              "      <th>Fee</th>\n",
              "      <th>Revenue</th>\n",
              "      <th>CTR</th>\n",
              "      <th>CPM</th>\n",
              "      <th>CPC</th>\n",
              "    </tr>\n",
              "  </thead>\n",
              "  <tbody>\n",
              "    <tr>\n",
              "      <th>0</th>\n",
              "      <td>2020-9-2-17</td>\n",
              "      <td>Format1</td>\n",
              "      <td>300</td>\n",
              "      <td>250</td>\n",
              "      <td>75000</td>\n",
              "      <td>Inter222</td>\n",
              "      <td>Video</td>\n",
              "      <td>Desktop</td>\n",
              "      <td>Display</td>\n",
              "      <td>1806</td>\n",
              "      <td>325</td>\n",
              "      <td>323</td>\n",
              "      <td>1</td>\n",
              "      <td>0.00</td>\n",
              "      <td>0.35</td>\n",
              "      <td>0.0000</td>\n",
              "      <td>0.309598</td>\n",
              "      <td>0.000000</td>\n",
              "      <td>0.000000</td>\n",
              "    </tr>\n",
              "    <tr>\n",
              "      <th>1</th>\n",
              "      <td>2020-9-2-10</td>\n",
              "      <td>Format1</td>\n",
              "      <td>300</td>\n",
              "      <td>250</td>\n",
              "      <td>75000</td>\n",
              "      <td>Inter227</td>\n",
              "      <td>App</td>\n",
              "      <td>Mobile</td>\n",
              "      <td>Video</td>\n",
              "      <td>1780</td>\n",
              "      <td>285</td>\n",
              "      <td>285</td>\n",
              "      <td>1</td>\n",
              "      <td>0.00</td>\n",
              "      <td>0.35</td>\n",
              "      <td>0.0000</td>\n",
              "      <td>0.350877</td>\n",
              "      <td>0.000000</td>\n",
              "      <td>0.000000</td>\n",
              "    </tr>\n",
              "    <tr>\n",
              "      <th>2</th>\n",
              "      <td>2020-9-1-22</td>\n",
              "      <td>Format1</td>\n",
              "      <td>300</td>\n",
              "      <td>250</td>\n",
              "      <td>75000</td>\n",
              "      <td>Inter222</td>\n",
              "      <td>Video</td>\n",
              "      <td>Desktop</td>\n",
              "      <td>Display</td>\n",
              "      <td>2727</td>\n",
              "      <td>356</td>\n",
              "      <td>355</td>\n",
              "      <td>1</td>\n",
              "      <td>0.00</td>\n",
              "      <td>0.35</td>\n",
              "      <td>0.0000</td>\n",
              "      <td>0.281690</td>\n",
              "      <td>0.000000</td>\n",
              "      <td>0.000000</td>\n",
              "    </tr>\n",
              "    <tr>\n",
              "      <th>3</th>\n",
              "      <td>2020-9-3-20</td>\n",
              "      <td>Format1</td>\n",
              "      <td>300</td>\n",
              "      <td>250</td>\n",
              "      <td>75000</td>\n",
              "      <td>Inter228</td>\n",
              "      <td>Video</td>\n",
              "      <td>Mobile</td>\n",
              "      <td>Video</td>\n",
              "      <td>2430</td>\n",
              "      <td>497</td>\n",
              "      <td>495</td>\n",
              "      <td>1</td>\n",
              "      <td>0.00</td>\n",
              "      <td>0.35</td>\n",
              "      <td>0.0000</td>\n",
              "      <td>0.202020</td>\n",
              "      <td>0.000000</td>\n",
              "      <td>0.000000</td>\n",
              "    </tr>\n",
              "    <tr>\n",
              "      <th>4</th>\n",
              "      <td>2020-9-4-15</td>\n",
              "      <td>Format1</td>\n",
              "      <td>300</td>\n",
              "      <td>250</td>\n",
              "      <td>75000</td>\n",
              "      <td>Inter217</td>\n",
              "      <td>Web</td>\n",
              "      <td>Desktop</td>\n",
              "      <td>Video</td>\n",
              "      <td>1218</td>\n",
              "      <td>242</td>\n",
              "      <td>242</td>\n",
              "      <td>1</td>\n",
              "      <td>0.00</td>\n",
              "      <td>0.35</td>\n",
              "      <td>0.0000</td>\n",
              "      <td>0.413223</td>\n",
              "      <td>0.000000</td>\n",
              "      <td>0.000000</td>\n",
              "    </tr>\n",
              "    <tr>\n",
              "      <th>...</th>\n",
              "      <td>...</td>\n",
              "      <td>...</td>\n",
              "      <td>...</td>\n",
              "      <td>...</td>\n",
              "      <td>...</td>\n",
              "      <td>...</td>\n",
              "      <td>...</td>\n",
              "      <td>...</td>\n",
              "      <td>...</td>\n",
              "      <td>...</td>\n",
              "      <td>...</td>\n",
              "      <td>...</td>\n",
              "      <td>...</td>\n",
              "      <td>...</td>\n",
              "      <td>...</td>\n",
              "      <td>...</td>\n",
              "      <td>...</td>\n",
              "      <td>...</td>\n",
              "      <td>...</td>\n",
              "    </tr>\n",
              "    <tr>\n",
              "      <th>18354</th>\n",
              "      <td>2020-11-2-6</td>\n",
              "      <td>Format6</td>\n",
              "      <td>336</td>\n",
              "      <td>250</td>\n",
              "      <td>84000</td>\n",
              "      <td>Inter229</td>\n",
              "      <td>Video</td>\n",
              "      <td>Desktop</td>\n",
              "      <td>Video</td>\n",
              "      <td>80771</td>\n",
              "      <td>45701</td>\n",
              "      <td>39115</td>\n",
              "      <td>5346</td>\n",
              "      <td>481.59</td>\n",
              "      <td>0.35</td>\n",
              "      <td>313.0335</td>\n",
              "      <td>13.667391</td>\n",
              "      <td>12.312156</td>\n",
              "      <td>0.090084</td>\n",
              "    </tr>\n",
              "    <tr>\n",
              "      <th>18355</th>\n",
              "      <td>2020-11-1-19</td>\n",
              "      <td>Format5</td>\n",
              "      <td>720</td>\n",
              "      <td>300</td>\n",
              "      <td>216000</td>\n",
              "      <td>Inter227</td>\n",
              "      <td>App</td>\n",
              "      <td>Mobile</td>\n",
              "      <td>Display</td>\n",
              "      <td>505442</td>\n",
              "      <td>196734</td>\n",
              "      <td>169895</td>\n",
              "      <td>25169</td>\n",
              "      <td>1491.26</td>\n",
              "      <td>0.35</td>\n",
              "      <td>969.3190</td>\n",
              "      <td>14.814444</td>\n",
              "      <td>8.777539</td>\n",
              "      <td>0.059250</td>\n",
              "    </tr>\n",
              "    <tr>\n",
              "      <th>18356</th>\n",
              "      <td>2020-11-2-13</td>\n",
              "      <td>Format6</td>\n",
              "      <td>336</td>\n",
              "      <td>250</td>\n",
              "      <td>84000</td>\n",
              "      <td>Inter228</td>\n",
              "      <td>Video</td>\n",
              "      <td>Mobile</td>\n",
              "      <td>Display</td>\n",
              "      <td>169677</td>\n",
              "      <td>99969</td>\n",
              "      <td>84664</td>\n",
              "      <td>15807</td>\n",
              "      <td>794.39</td>\n",
              "      <td>0.35</td>\n",
              "      <td>516.3535</td>\n",
              "      <td>18.670273</td>\n",
              "      <td>9.382855</td>\n",
              "      <td>0.050256</td>\n",
              "    </tr>\n",
              "    <tr>\n",
              "      <th>18357</th>\n",
              "      <td>2020-11-2-12</td>\n",
              "      <td>Format1</td>\n",
              "      <td>300</td>\n",
              "      <td>250</td>\n",
              "      <td>75000</td>\n",
              "      <td>Inter221</td>\n",
              "      <td>App</td>\n",
              "      <td>Mobile</td>\n",
              "      <td>Display</td>\n",
              "      <td>3955744</td>\n",
              "      <td>2028909</td>\n",
              "      <td>2002900</td>\n",
              "      <td>5062</td>\n",
              "      <td>3586.57</td>\n",
              "      <td>0.33</td>\n",
              "      <td>2403.0019</td>\n",
              "      <td>0.252734</td>\n",
              "      <td>1.790689</td>\n",
              "      <td>0.708528</td>\n",
              "    </tr>\n",
              "    <tr>\n",
              "      <th>18358</th>\n",
              "      <td>2020-11-2-0</td>\n",
              "      <td>Format6</td>\n",
              "      <td>336</td>\n",
              "      <td>250</td>\n",
              "      <td>84000</td>\n",
              "      <td>Inter224</td>\n",
              "      <td>Web</td>\n",
              "      <td>Desktop</td>\n",
              "      <td>Display</td>\n",
              "      <td>2503645</td>\n",
              "      <td>1054558</td>\n",
              "      <td>989967</td>\n",
              "      <td>4139</td>\n",
              "      <td>1777.90</td>\n",
              "      <td>0.35</td>\n",
              "      <td>1155.6350</td>\n",
              "      <td>0.418095</td>\n",
              "      <td>1.795918</td>\n",
              "      <td>0.429548</td>\n",
              "    </tr>\n",
              "  </tbody>\n",
              "</table>\n",
              "<p>18330 rows × 19 columns</p>\n",
              "</div>\n",
              "      <button class=\"colab-df-convert\" onclick=\"convertToInteractive('df-f79096fd-8018-47b6-93cc-4dc4071c4ff5')\"\n",
              "              title=\"Convert this dataframe to an interactive table.\"\n",
              "              style=\"display:none;\">\n",
              "        \n",
              "  <svg xmlns=\"http://www.w3.org/2000/svg\" height=\"24px\"viewBox=\"0 0 24 24\"\n",
              "       width=\"24px\">\n",
              "    <path d=\"M0 0h24v24H0V0z\" fill=\"none\"/>\n",
              "    <path d=\"M18.56 5.44l.94 2.06.94-2.06 2.06-.94-2.06-.94-.94-2.06-.94 2.06-2.06.94zm-11 1L8.5 8.5l.94-2.06 2.06-.94-2.06-.94L8.5 2.5l-.94 2.06-2.06.94zm10 10l.94 2.06.94-2.06 2.06-.94-2.06-.94-.94-2.06-.94 2.06-2.06.94z\"/><path d=\"M17.41 7.96l-1.37-1.37c-.4-.4-.92-.59-1.43-.59-.52 0-1.04.2-1.43.59L10.3 9.45l-7.72 7.72c-.78.78-.78 2.05 0 2.83L4 21.41c.39.39.9.59 1.41.59.51 0 1.02-.2 1.41-.59l7.78-7.78 2.81-2.81c.8-.78.8-2.07 0-2.86zM5.41 20L4 18.59l7.72-7.72 1.47 1.35L5.41 20z\"/>\n",
              "  </svg>\n",
              "      </button>\n",
              "      \n",
              "  <style>\n",
              "    .colab-df-container {\n",
              "      display:flex;\n",
              "      flex-wrap:wrap;\n",
              "      gap: 12px;\n",
              "    }\n",
              "\n",
              "    .colab-df-convert {\n",
              "      background-color: #E8F0FE;\n",
              "      border: none;\n",
              "      border-radius: 50%;\n",
              "      cursor: pointer;\n",
              "      display: none;\n",
              "      fill: #1967D2;\n",
              "      height: 32px;\n",
              "      padding: 0 0 0 0;\n",
              "      width: 32px;\n",
              "    }\n",
              "\n",
              "    .colab-df-convert:hover {\n",
              "      background-color: #E2EBFA;\n",
              "      box-shadow: 0px 1px 2px rgba(60, 64, 67, 0.3), 0px 1px 3px 1px rgba(60, 64, 67, 0.15);\n",
              "      fill: #174EA6;\n",
              "    }\n",
              "\n",
              "    [theme=dark] .colab-df-convert {\n",
              "      background-color: #3B4455;\n",
              "      fill: #D2E3FC;\n",
              "    }\n",
              "\n",
              "    [theme=dark] .colab-df-convert:hover {\n",
              "      background-color: #434B5C;\n",
              "      box-shadow: 0px 1px 3px 1px rgba(0, 0, 0, 0.15);\n",
              "      filter: drop-shadow(0px 1px 2px rgba(0, 0, 0, 0.3));\n",
              "      fill: #FFFFFF;\n",
              "    }\n",
              "  </style>\n",
              "\n",
              "      <script>\n",
              "        const buttonEl =\n",
              "          document.querySelector('#df-f79096fd-8018-47b6-93cc-4dc4071c4ff5 button.colab-df-convert');\n",
              "        buttonEl.style.display =\n",
              "          google.colab.kernel.accessAllowed ? 'block' : 'none';\n",
              "\n",
              "        async function convertToInteractive(key) {\n",
              "          const element = document.querySelector('#df-f79096fd-8018-47b6-93cc-4dc4071c4ff5');\n",
              "          const dataTable =\n",
              "            await google.colab.kernel.invokeFunction('convertToInteractive',\n",
              "                                                     [key], {});\n",
              "          if (!dataTable) return;\n",
              "\n",
              "          const docLinkHtml = 'Like what you see? Visit the ' +\n",
              "            '<a target=\"_blank\" href=https://colab.research.google.com/notebooks/data_table.ipynb>data table notebook</a>'\n",
              "            + ' to learn more about interactive tables.';\n",
              "          element.innerHTML = '';\n",
              "          dataTable['output_type'] = 'display_data';\n",
              "          await google.colab.output.renderOutput(dataTable, element);\n",
              "          const docLink = document.createElement('div');\n",
              "          docLink.innerHTML = docLinkHtml;\n",
              "          element.appendChild(docLink);\n",
              "        }\n",
              "      </script>\n",
              "    </div>\n",
              "  </div>\n",
              "  "
            ]
          },
          "metadata": {},
          "execution_count": 51
        }
      ]
    },
    {
      "cell_type": "code",
      "source": [
        "df.isnull().sum()"
      ],
      "metadata": {
        "colab": {
          "base_uri": "https://localhost:8080/"
        },
        "id": "C5V3-5W7Pa6F",
        "outputId": "1f18f806-46a7-4538-bc11-663b72166d4d"
      },
      "execution_count": null,
      "outputs": [
        {
          "output_type": "execute_result",
          "data": {
            "text/plain": [
              "Timestamp                0\n",
              "InventoryType            0\n",
              "Ad - Length              0\n",
              "Ad- Width                0\n",
              "Ad Size                  0\n",
              "Ad Type                  0\n",
              "Platform                 0\n",
              "Device Type              0\n",
              "Format                   0\n",
              "Available_Impressions    0\n",
              "Matched_Queries          0\n",
              "Impressions              0\n",
              "Clicks                   0\n",
              "Spend                    0\n",
              "Fee                      0\n",
              "Revenue                  0\n",
              "CTR                      0\n",
              "CPM                      0\n",
              "CPC                      0\n",
              "dtype: int64"
            ]
          },
          "metadata": {},
          "execution_count": 52
        }
      ]
    },
    {
      "cell_type": "code",
      "source": [
        "df_number = df.select_dtypes(include=[np.number])\n",
        "df_number"
      ],
      "metadata": {
        "colab": {
          "base_uri": "https://localhost:8080/",
          "height": 485
        },
        "id": "hYCfj2upLAPE",
        "outputId": "2be17b92-4158-4885-b875-f3990bdbd94c"
      },
      "execution_count": null,
      "outputs": [
        {
          "output_type": "execute_result",
          "data": {
            "text/plain": [
              "       Ad - Length  Ad- Width  Ad Size  Available_Impressions  \\\n",
              "0              300        250    75000                   1806   \n",
              "1              300        250    75000                   1780   \n",
              "2              300        250    75000                   2727   \n",
              "3              300        250    75000                   2430   \n",
              "4              300        250    75000                   1218   \n",
              "...            ...        ...      ...                    ...   \n",
              "18354          336        250    84000                  80771   \n",
              "18355          720        300   216000                 505442   \n",
              "18356          336        250    84000                 169677   \n",
              "18357          300        250    75000                3955744   \n",
              "18358          336        250    84000                2503645   \n",
              "\n",
              "       Matched_Queries  Impressions  Clicks    Spend   Fee    Revenue  \\\n",
              "0                  325          323       1     0.00  0.35     0.0000   \n",
              "1                  285          285       1     0.00  0.35     0.0000   \n",
              "2                  356          355       1     0.00  0.35     0.0000   \n",
              "3                  497          495       1     0.00  0.35     0.0000   \n",
              "4                  242          242       1     0.00  0.35     0.0000   \n",
              "...                ...          ...     ...      ...   ...        ...   \n",
              "18354            45701        39115    5346   481.59  0.35   313.0335   \n",
              "18355           196734       169895   25169  1491.26  0.35   969.3190   \n",
              "18356            99969        84664   15807   794.39  0.35   516.3535   \n",
              "18357          2028909      2002900    5062  3586.57  0.33  2403.0019   \n",
              "18358          1054558       989967    4139  1777.90  0.35  1155.6350   \n",
              "\n",
              "             CTR        CPM       CPC  \n",
              "0       0.309598   0.000000  0.000000  \n",
              "1       0.350877   0.000000  0.000000  \n",
              "2       0.281690   0.000000  0.000000  \n",
              "3       0.202020   0.000000  0.000000  \n",
              "4       0.413223   0.000000  0.000000  \n",
              "...          ...        ...       ...  \n",
              "18354  13.667391  12.312156  0.090084  \n",
              "18355  14.814444   8.777539  0.059250  \n",
              "18356  18.670273   9.382855  0.050256  \n",
              "18357   0.252734   1.790689  0.708528  \n",
              "18358   0.418095   1.795918  0.429548  \n",
              "\n",
              "[18330 rows x 13 columns]"
            ],
            "text/html": [
              "\n",
              "  <div id=\"df-9139c589-01ed-4d24-b0d3-2f45140e9272\">\n",
              "    <div class=\"colab-df-container\">\n",
              "      <div>\n",
              "<style scoped>\n",
              "    .dataframe tbody tr th:only-of-type {\n",
              "        vertical-align: middle;\n",
              "    }\n",
              "\n",
              "    .dataframe tbody tr th {\n",
              "        vertical-align: top;\n",
              "    }\n",
              "\n",
              "    .dataframe thead th {\n",
              "        text-align: right;\n",
              "    }\n",
              "</style>\n",
              "<table border=\"1\" class=\"dataframe\">\n",
              "  <thead>\n",
              "    <tr style=\"text-align: right;\">\n",
              "      <th></th>\n",
              "      <th>Ad - Length</th>\n",
              "      <th>Ad- Width</th>\n",
              "      <th>Ad Size</th>\n",
              "      <th>Available_Impressions</th>\n",
              "      <th>Matched_Queries</th>\n",
              "      <th>Impressions</th>\n",
              "      <th>Clicks</th>\n",
              "      <th>Spend</th>\n",
              "      <th>Fee</th>\n",
              "      <th>Revenue</th>\n",
              "      <th>CTR</th>\n",
              "      <th>CPM</th>\n",
              "      <th>CPC</th>\n",
              "    </tr>\n",
              "  </thead>\n",
              "  <tbody>\n",
              "    <tr>\n",
              "      <th>0</th>\n",
              "      <td>300</td>\n",
              "      <td>250</td>\n",
              "      <td>75000</td>\n",
              "      <td>1806</td>\n",
              "      <td>325</td>\n",
              "      <td>323</td>\n",
              "      <td>1</td>\n",
              "      <td>0.00</td>\n",
              "      <td>0.35</td>\n",
              "      <td>0.0000</td>\n",
              "      <td>0.309598</td>\n",
              "      <td>0.000000</td>\n",
              "      <td>0.000000</td>\n",
              "    </tr>\n",
              "    <tr>\n",
              "      <th>1</th>\n",
              "      <td>300</td>\n",
              "      <td>250</td>\n",
              "      <td>75000</td>\n",
              "      <td>1780</td>\n",
              "      <td>285</td>\n",
              "      <td>285</td>\n",
              "      <td>1</td>\n",
              "      <td>0.00</td>\n",
              "      <td>0.35</td>\n",
              "      <td>0.0000</td>\n",
              "      <td>0.350877</td>\n",
              "      <td>0.000000</td>\n",
              "      <td>0.000000</td>\n",
              "    </tr>\n",
              "    <tr>\n",
              "      <th>2</th>\n",
              "      <td>300</td>\n",
              "      <td>250</td>\n",
              "      <td>75000</td>\n",
              "      <td>2727</td>\n",
              "      <td>356</td>\n",
              "      <td>355</td>\n",
              "      <td>1</td>\n",
              "      <td>0.00</td>\n",
              "      <td>0.35</td>\n",
              "      <td>0.0000</td>\n",
              "      <td>0.281690</td>\n",
              "      <td>0.000000</td>\n",
              "      <td>0.000000</td>\n",
              "    </tr>\n",
              "    <tr>\n",
              "      <th>3</th>\n",
              "      <td>300</td>\n",
              "      <td>250</td>\n",
              "      <td>75000</td>\n",
              "      <td>2430</td>\n",
              "      <td>497</td>\n",
              "      <td>495</td>\n",
              "      <td>1</td>\n",
              "      <td>0.00</td>\n",
              "      <td>0.35</td>\n",
              "      <td>0.0000</td>\n",
              "      <td>0.202020</td>\n",
              "      <td>0.000000</td>\n",
              "      <td>0.000000</td>\n",
              "    </tr>\n",
              "    <tr>\n",
              "      <th>4</th>\n",
              "      <td>300</td>\n",
              "      <td>250</td>\n",
              "      <td>75000</td>\n",
              "      <td>1218</td>\n",
              "      <td>242</td>\n",
              "      <td>242</td>\n",
              "      <td>1</td>\n",
              "      <td>0.00</td>\n",
              "      <td>0.35</td>\n",
              "      <td>0.0000</td>\n",
              "      <td>0.413223</td>\n",
              "      <td>0.000000</td>\n",
              "      <td>0.000000</td>\n",
              "    </tr>\n",
              "    <tr>\n",
              "      <th>...</th>\n",
              "      <td>...</td>\n",
              "      <td>...</td>\n",
              "      <td>...</td>\n",
              "      <td>...</td>\n",
              "      <td>...</td>\n",
              "      <td>...</td>\n",
              "      <td>...</td>\n",
              "      <td>...</td>\n",
              "      <td>...</td>\n",
              "      <td>...</td>\n",
              "      <td>...</td>\n",
              "      <td>...</td>\n",
              "      <td>...</td>\n",
              "    </tr>\n",
              "    <tr>\n",
              "      <th>18354</th>\n",
              "      <td>336</td>\n",
              "      <td>250</td>\n",
              "      <td>84000</td>\n",
              "      <td>80771</td>\n",
              "      <td>45701</td>\n",
              "      <td>39115</td>\n",
              "      <td>5346</td>\n",
              "      <td>481.59</td>\n",
              "      <td>0.35</td>\n",
              "      <td>313.0335</td>\n",
              "      <td>13.667391</td>\n",
              "      <td>12.312156</td>\n",
              "      <td>0.090084</td>\n",
              "    </tr>\n",
              "    <tr>\n",
              "      <th>18355</th>\n",
              "      <td>720</td>\n",
              "      <td>300</td>\n",
              "      <td>216000</td>\n",
              "      <td>505442</td>\n",
              "      <td>196734</td>\n",
              "      <td>169895</td>\n",
              "      <td>25169</td>\n",
              "      <td>1491.26</td>\n",
              "      <td>0.35</td>\n",
              "      <td>969.3190</td>\n",
              "      <td>14.814444</td>\n",
              "      <td>8.777539</td>\n",
              "      <td>0.059250</td>\n",
              "    </tr>\n",
              "    <tr>\n",
              "      <th>18356</th>\n",
              "      <td>336</td>\n",
              "      <td>250</td>\n",
              "      <td>84000</td>\n",
              "      <td>169677</td>\n",
              "      <td>99969</td>\n",
              "      <td>84664</td>\n",
              "      <td>15807</td>\n",
              "      <td>794.39</td>\n",
              "      <td>0.35</td>\n",
              "      <td>516.3535</td>\n",
              "      <td>18.670273</td>\n",
              "      <td>9.382855</td>\n",
              "      <td>0.050256</td>\n",
              "    </tr>\n",
              "    <tr>\n",
              "      <th>18357</th>\n",
              "      <td>300</td>\n",
              "      <td>250</td>\n",
              "      <td>75000</td>\n",
              "      <td>3955744</td>\n",
              "      <td>2028909</td>\n",
              "      <td>2002900</td>\n",
              "      <td>5062</td>\n",
              "      <td>3586.57</td>\n",
              "      <td>0.33</td>\n",
              "      <td>2403.0019</td>\n",
              "      <td>0.252734</td>\n",
              "      <td>1.790689</td>\n",
              "      <td>0.708528</td>\n",
              "    </tr>\n",
              "    <tr>\n",
              "      <th>18358</th>\n",
              "      <td>336</td>\n",
              "      <td>250</td>\n",
              "      <td>84000</td>\n",
              "      <td>2503645</td>\n",
              "      <td>1054558</td>\n",
              "      <td>989967</td>\n",
              "      <td>4139</td>\n",
              "      <td>1777.90</td>\n",
              "      <td>0.35</td>\n",
              "      <td>1155.6350</td>\n",
              "      <td>0.418095</td>\n",
              "      <td>1.795918</td>\n",
              "      <td>0.429548</td>\n",
              "    </tr>\n",
              "  </tbody>\n",
              "</table>\n",
              "<p>18330 rows × 13 columns</p>\n",
              "</div>\n",
              "      <button class=\"colab-df-convert\" onclick=\"convertToInteractive('df-9139c589-01ed-4d24-b0d3-2f45140e9272')\"\n",
              "              title=\"Convert this dataframe to an interactive table.\"\n",
              "              style=\"display:none;\">\n",
              "        \n",
              "  <svg xmlns=\"http://www.w3.org/2000/svg\" height=\"24px\"viewBox=\"0 0 24 24\"\n",
              "       width=\"24px\">\n",
              "    <path d=\"M0 0h24v24H0V0z\" fill=\"none\"/>\n",
              "    <path d=\"M18.56 5.44l.94 2.06.94-2.06 2.06-.94-2.06-.94-.94-2.06-.94 2.06-2.06.94zm-11 1L8.5 8.5l.94-2.06 2.06-.94-2.06-.94L8.5 2.5l-.94 2.06-2.06.94zm10 10l.94 2.06.94-2.06 2.06-.94-2.06-.94-.94-2.06-.94 2.06-2.06.94z\"/><path d=\"M17.41 7.96l-1.37-1.37c-.4-.4-.92-.59-1.43-.59-.52 0-1.04.2-1.43.59L10.3 9.45l-7.72 7.72c-.78.78-.78 2.05 0 2.83L4 21.41c.39.39.9.59 1.41.59.51 0 1.02-.2 1.41-.59l7.78-7.78 2.81-2.81c.8-.78.8-2.07 0-2.86zM5.41 20L4 18.59l7.72-7.72 1.47 1.35L5.41 20z\"/>\n",
              "  </svg>\n",
              "      </button>\n",
              "      \n",
              "  <style>\n",
              "    .colab-df-container {\n",
              "      display:flex;\n",
              "      flex-wrap:wrap;\n",
              "      gap: 12px;\n",
              "    }\n",
              "\n",
              "    .colab-df-convert {\n",
              "      background-color: #E8F0FE;\n",
              "      border: none;\n",
              "      border-radius: 50%;\n",
              "      cursor: pointer;\n",
              "      display: none;\n",
              "      fill: #1967D2;\n",
              "      height: 32px;\n",
              "      padding: 0 0 0 0;\n",
              "      width: 32px;\n",
              "    }\n",
              "\n",
              "    .colab-df-convert:hover {\n",
              "      background-color: #E2EBFA;\n",
              "      box-shadow: 0px 1px 2px rgba(60, 64, 67, 0.3), 0px 1px 3px 1px rgba(60, 64, 67, 0.15);\n",
              "      fill: #174EA6;\n",
              "    }\n",
              "\n",
              "    [theme=dark] .colab-df-convert {\n",
              "      background-color: #3B4455;\n",
              "      fill: #D2E3FC;\n",
              "    }\n",
              "\n",
              "    [theme=dark] .colab-df-convert:hover {\n",
              "      background-color: #434B5C;\n",
              "      box-shadow: 0px 1px 3px 1px rgba(0, 0, 0, 0.15);\n",
              "      filter: drop-shadow(0px 1px 2px rgba(0, 0, 0, 0.3));\n",
              "      fill: #FFFFFF;\n",
              "    }\n",
              "  </style>\n",
              "\n",
              "      <script>\n",
              "        const buttonEl =\n",
              "          document.querySelector('#df-9139c589-01ed-4d24-b0d3-2f45140e9272 button.colab-df-convert');\n",
              "        buttonEl.style.display =\n",
              "          google.colab.kernel.accessAllowed ? 'block' : 'none';\n",
              "\n",
              "        async function convertToInteractive(key) {\n",
              "          const element = document.querySelector('#df-9139c589-01ed-4d24-b0d3-2f45140e9272');\n",
              "          const dataTable =\n",
              "            await google.colab.kernel.invokeFunction('convertToInteractive',\n",
              "                                                     [key], {});\n",
              "          if (!dataTable) return;\n",
              "\n",
              "          const docLinkHtml = 'Like what you see? Visit the ' +\n",
              "            '<a target=\"_blank\" href=https://colab.research.google.com/notebooks/data_table.ipynb>data table notebook</a>'\n",
              "            + ' to learn more about interactive tables.';\n",
              "          element.innerHTML = '';\n",
              "          dataTable['output_type'] = 'display_data';\n",
              "          await google.colab.output.renderOutput(dataTable, element);\n",
              "          const docLink = document.createElement('div');\n",
              "          docLink.innerHTML = docLinkHtml;\n",
              "          element.appendChild(docLink);\n",
              "        }\n",
              "      </script>\n",
              "    </div>\n",
              "  </div>\n",
              "  "
            ]
          },
          "metadata": {},
          "execution_count": 53
        }
      ]
    },
    {
      "cell_type": "code",
      "source": [
        "for column in df_number:\n",
        "        plt.figure(figsize=(17,1))\n",
        "        sns.boxplot(data=df_number, x=column)"
      ],
      "metadata": {
        "colab": {
          "base_uri": "https://localhost:8080/",
          "height": 1000
        },
        "id": "a8jwD50yUb0v",
        "outputId": "81d09b77-2dee-4a25-fa09-2ab9ae668eb6"
      },
      "execution_count": null,
      "outputs": [
        {
          "output_type": "display_data",
          "data": {
            "text/plain": [
              "<Figure size 1224x72 with 1 Axes>"
            ],
            "image/png": "[encoded data removed]"
          },
          "metadata": {
            "needs_background": "light"
          }
        },
        {
          "output_type": "display_data",
          "data": {
            "text/plain": [
              "<Figure size 1224x72 with 1 Axes>"
            ],
            "image/png": "[encoded data removed]"
          },
          "metadata": {
            "needs_background": "light"
          }
        },
        {
          "output_type": "display_data",
          "data": {
            "text/plain": [
              "<Figure size 1224x72 with 1 Axes>"
            ],
            "image/png": "[encoded data removed]"
          },
          "metadata": {
            "needs_background": "light"
          }
        },
        {
          "output_type": "display_data",
          "data": {
            "text/plain": [
              "<Figure size 1224x72 with 1 Axes>"
            ],
            "image/png": "[encoded data removed]"
          },
          "metadata": {
            "needs_background": "light"
          }
        },
        {
          "output_type": "display_data",
          "data": {
            "text/plain": [
              "<Figure size 1224x72 with 1 Axes>"
            ],
            "image/png": "[encoded data removed]"
          },
          "metadata": {
            "needs_background": "light"
          }
        },
        {
          "output_type": "display_data",
          "data": {
            "text/plain": [
              "<Figure size 1224x72 with 1 Axes>"
            ],
            "image/png": "[encoded data removed]"
          },
          "metadata": {
            "needs_background": "light"
          }
        },
        {
          "output_type": "display_data",
          "data": {
            "text/plain": [
              "<Figure size 1224x72 with 1 Axes>"
            ],
            "image/png": "[encoded data removed]"
          },
          "metadata": {
            "needs_background": "light"
          }
        },
        {
          "output_type": "display_data",
          "data": {
            "text/plain": [
              "<Figure size 1224x72 with 1 Axes>"
            ],
            "image/png": "[encoded data removed]"
          },
          "metadata": {
            "needs_background": "light"
          }
        },
        {
          "output_type": "display_data",
          "data": {
            "text/plain": [
              "<Figure size 1224x72 with 1 Axes>"
            ],
            "image/png": "[encoded data removed]"
          },
          "metadata": {
            "needs_background": "light"
          }
        },
        {
          "output_type": "display_data",
          "data": {
            "text/plain": [
              "<Figure size 1224x72 with 1 Axes>"
            ],
            "image/png": "[encoded data removed]"
          },
          "metadata": {
            "needs_background": "light"
          }
        },
        {
          "output_type": "display_data",
          "data": {
            "text/plain": [
              "<Figure size 1224x72 with 1 Axes>"
            ],
            "image/png": "[encoded data removed]"
          },
          "metadata": {
            "needs_background": "light"
          }
        },
        {
          "output_type": "display_data",
          "data": {
            "text/plain": [
              "<Figure size 1224x72 with 1 Axes>"
            ],
            "image/png": "[encoded data removed]"
          },
          "metadata": {
            "needs_background": "light"
          }
        },
        {
          "output_type": "display_data",
          "data": {
            "text/plain": [
              "<Figure size 1224x72 with 1 Axes>"
            ],
            "image/png": "[encoded data removed]"
          },
          "metadata": {
            "needs_background": "light"
          }
        }
      ]
    },
    {
      "cell_type": "code",
      "source": [
        "df_number.describe()"
      ],
      "metadata": {
        "colab": {
          "base_uri": "https://localhost:8080/",
          "height": 364
        },
        "id": "SK9iAws5UlbS",
        "outputId": "d97d452d-5380-4877-dbe7-515cd9b82624"
      },
      "execution_count": null,
      "outputs": [
        {
          "output_type": "execute_result",
          "data": {
            "text/plain": [
              "        Ad - Length     Ad- Width        Ad Size  Available_Impressions  \\\n",
              "count  18330.000000  18330.000000   18330.000000           1.833000e+04   \n",
              "mean     386.297872    329.102019   95074.926350           2.581882e+06   \n",
              "std      227.660490    201.640473   60172.281693           4.843240e+06   \n",
              "min      120.000000     70.000000   33600.000000           4.000000e+00   \n",
              "25%      120.000000    250.000000   72000.000000           5.947250e+04   \n",
              "50%      336.000000    250.000000   72000.000000           5.696205e+05   \n",
              "75%      720.000000    600.000000   84000.000000           2.670538e+06   \n",
              "max      728.000000    600.000000  216000.000000           2.759286e+07   \n",
              "\n",
              "       Matched_Queries   Impressions         Clicks         Spend  \\\n",
              "count     1.833000e+04  1.833000e+04   18330.000000  18330.000000   \n",
              "mean      1.380052e+06  1.323141e+06   11342.414184   2864.110546   \n",
              "std       2.573899e+06  2.488874e+06   17733.244400   4119.887922   \n",
              "min       3.000000e+00  2.000000e+00       1.000000      0.000000   \n",
              "25%       3.022800e+04  1.991000e+04     944.000000    194.275000   \n",
              "50%       3.044060e+05  2.723450e+05    5023.500000   1519.435000   \n",
              "75%       1.278065e+06  1.217148e+06   13967.000000   3476.625000   \n",
              "max       1.470202e+07  1.419477e+07  143049.000000  26931.870000   \n",
              "\n",
              "                Fee       Revenue           CTR           CPM           CPC  \n",
              "count  18330.000000  18330.000000  18330.000000  18330.000000  18330.000000  \n",
              "mean       0.334266   2035.679009      7.366038      7.672195      0.351092  \n",
              "std        0.032617   3149.310187      7.515998      6.482599      0.343360  \n",
              "min        0.210000      0.000000      0.010874      0.000000      0.000000  \n",
              "25%        0.330000    126.280000      0.258301      1.711970      0.092706  \n",
              "50%        0.350000    987.635000      8.257612      7.656059      0.155227  \n",
              "75%        0.350000   2329.340000     13.001101     12.516143      0.566712  \n",
              "max        0.350000  21276.180000    100.000000     82.500000      7.264000  "
            ],
            "text/html": [
              "\n",
              "  <div id=\"df-cb1f1a8a-15dd-4b26-a19d-cea83a738e70\">\n",
              "    <div class=\"colab-df-container\">\n",
              "      <div>\n",
              "<style scoped>\n",
              "    .dataframe tbody tr th:only-of-type {\n",
              "        vertical-align: middle;\n",
              "    }\n",
              "\n",
              "    .dataframe tbody tr th {\n",
              "        vertical-align: top;\n",
              "    }\n",
              "\n",
              "    .dataframe thead th {\n",
              "        text-align: right;\n",
              "    }\n",
              "</style>\n",
              "<table border=\"1\" class=\"dataframe\">\n",
              "  <thead>\n",
              "    <tr style=\"text-align: right;\">\n",
              "      <th></th>\n",
              "      <th>Ad - Length</th>\n",
              "      <th>Ad- Width</th>\n",
              "      <th>Ad Size</th>\n",
              "      <th>Available_Impressions</th>\n",
              "      <th>Matched_Queries</th>\n",
              "      <th>Impressions</th>\n",
              "      <th>Clicks</th>\n",
              "      <th>Spend</th>\n",
              "      <th>Fee</th>\n",
              "      <th>Revenue</th>\n",
              "      <th>CTR</th>\n",
              "      <th>CPM</th>\n",
              "      <th>CPC</th>\n",
              "    </tr>\n",
              "  </thead>\n",
              "  <tbody>\n",
              "    <tr>\n",
              "      <th>count</th>\n",
              "      <td>18330.000000</td>\n",
              "      <td>18330.000000</td>\n",
              "      <td>18330.000000</td>\n",
              "      <td>1.833000e+04</td>\n",
              "      <td>1.833000e+04</td>\n",
              "      <td>1.833000e+04</td>\n",
              "      <td>18330.000000</td>\n",
              "      <td>18330.000000</td>\n",
              "      <td>18330.000000</td>\n",
              "      <td>18330.000000</td>\n",
              "      <td>18330.000000</td>\n",
              "      <td>18330.000000</td>\n",
              "      <td>18330.000000</td>\n",
              "    </tr>\n",
              "    <tr>\n",
              "      <th>mean</th>\n",
              "      <td>386.297872</td>\n",
              "      <td>329.102019</td>\n",
              "      <td>95074.926350</td>\n",
              "      <td>2.581882e+06</td>\n",
              "      <td>1.380052e+06</td>\n",
              "      <td>1.323141e+06</td>\n",
              "      <td>11342.414184</td>\n",
              "      <td>2864.110546</td>\n",
              "      <td>0.334266</td>\n",
              "      <td>2035.679009</td>\n",
              "      <td>7.366038</td>\n",
              "      <td>7.672195</td>\n",
              "      <td>0.351092</td>\n",
              "    </tr>\n",
              "    <tr>\n",
              "      <th>std</th>\n",
              "      <td>227.660490</td>\n",
              "      <td>201.640473</td>\n",
              "      <td>60172.281693</td>\n",
              "      <td>4.843240e+06</td>\n",
              "      <td>2.573899e+06</td>\n",
              "      <td>2.488874e+06</td>\n",
              "      <td>17733.244400</td>\n",
              "      <td>4119.887922</td>\n",
              "      <td>0.032617</td>\n",
              "      <td>3149.310187</td>\n",
              "      <td>7.515998</td>\n",
              "      <td>6.482599</td>\n",
              "      <td>0.343360</td>\n",
              "    </tr>\n",
              "    <tr>\n",
              "      <th>min</th>\n",
              "      <td>120.000000</td>\n",
              "      <td>70.000000</td>\n",
              "      <td>33600.000000</td>\n",
              "      <td>4.000000e+00</td>\n",
              "      <td>3.000000e+00</td>\n",
              "      <td>2.000000e+00</td>\n",
              "      <td>1.000000</td>\n",
              "      <td>0.000000</td>\n",
              "      <td>0.210000</td>\n",
              "      <td>0.000000</td>\n",
              "      <td>0.010874</td>\n",
              "      <td>0.000000</td>\n",
              "      <td>0.000000</td>\n",
              "    </tr>\n",
              "    <tr>\n",
              "      <th>25%</th>\n",
              "      <td>120.000000</td>\n",
              "      <td>250.000000</td>\n",
              "      <td>72000.000000</td>\n",
              "      <td>5.947250e+04</td>\n",
              "      <td>3.022800e+04</td>\n",
              "      <td>1.991000e+04</td>\n",
              "      <td>944.000000</td>\n",
              "      <td>194.275000</td>\n",
              "      <td>0.330000</td>\n",
              "      <td>126.280000</td>\n",
              "      <td>0.258301</td>\n",
              "      <td>1.711970</td>\n",
              "      <td>0.092706</td>\n",
              "    </tr>\n",
              "    <tr>\n",
              "      <th>50%</th>\n",
              "      <td>336.000000</td>\n",
              "      <td>250.000000</td>\n",
              "      <td>72000.000000</td>\n",
              "      <td>5.696205e+05</td>\n",
              "      <td>3.044060e+05</td>\n",
              "      <td>2.723450e+05</td>\n",
              "      <td>5023.500000</td>\n",
              "      <td>1519.435000</td>\n",
              "      <td>0.350000</td>\n",
              "      <td>987.635000</td>\n",
              "      <td>8.257612</td>\n",
              "      <td>7.656059</td>\n",
              "      <td>0.155227</td>\n",
              "    </tr>\n",
              "    <tr>\n",
              "      <th>75%</th>\n",
              "      <td>720.000000</td>\n",
              "      <td>600.000000</td>\n",
              "      <td>84000.000000</td>\n",
              "      <td>2.670538e+06</td>\n",
              "      <td>1.278065e+06</td>\n",
              "      <td>1.217148e+06</td>\n",
              "      <td>13967.000000</td>\n",
              "      <td>3476.625000</td>\n",
              "      <td>0.350000</td>\n",
              "      <td>2329.340000</td>\n",
              "      <td>13.001101</td>\n",
              "      <td>12.516143</td>\n",
              "      <td>0.566712</td>\n",
              "    </tr>\n",
              "    <tr>\n",
              "      <th>max</th>\n",
              "      <td>728.000000</td>\n",
              "      <td>600.000000</td>\n",
              "      <td>216000.000000</td>\n",
              "      <td>2.759286e+07</td>\n",
              "      <td>1.470202e+07</td>\n",
              "      <td>1.419477e+07</td>\n",
              "      <td>143049.000000</td>\n",
              "      <td>26931.870000</td>\n",
              "      <td>0.350000</td>\n",
              "      <td>21276.180000</td>\n",
              "      <td>100.000000</td>\n",
              "      <td>82.500000</td>\n",
              "      <td>7.264000</td>\n",
              "    </tr>\n",
              "  </tbody>\n",
              "</table>\n",
              "</div>\n",
              "      <button class=\"colab-df-convert\" onclick=\"convertToInteractive('df-cb1f1a8a-15dd-4b26-a19d-cea83a738e70')\"\n",
              "              title=\"Convert this dataframe to an interactive table.\"\n",
              "              style=\"display:none;\">\n",
              "        \n",
              "  <svg xmlns=\"http://www.w3.org/2000/svg\" height=\"24px\"viewBox=\"0 0 24 24\"\n",
              "       width=\"24px\">\n",
              "    <path d=\"M0 0h24v24H0V0z\" fill=\"none\"/>\n",
              "    <path d=\"M18.56 5.44l.94 2.06.94-2.06 2.06-.94-2.06-.94-.94-2.06-.94 2.06-2.06.94zm-11 1L8.5 8.5l.94-2.06 2.06-.94-2.06-.94L8.5 2.5l-.94 2.06-2.06.94zm10 10l.94 2.06.94-2.06 2.06-.94-2.06-.94-.94-2.06-.94 2.06-2.06.94z\"/><path d=\"M17.41 7.96l-1.37-1.37c-.4-.4-.92-.59-1.43-.59-.52 0-1.04.2-1.43.59L10.3 9.45l-7.72 7.72c-.78.78-.78 2.05 0 2.83L4 21.41c.39.39.9.59 1.41.59.51 0 1.02-.2 1.41-.59l7.78-7.78 2.81-2.81c.8-.78.8-2.07 0-2.86zM5.41 20L4 18.59l7.72-7.72 1.47 1.35L5.41 20z\"/>\n",
              "  </svg>\n",
              "      </button>\n",
              "      \n",
              "  <style>\n",
              "    .colab-df-container {\n",
              "      display:flex;\n",
              "      flex-wrap:wrap;\n",
              "      gap: 12px;\n",
              "    }\n",
              "\n",
              "    .colab-df-convert {\n",
              "      background-color: #E8F0FE;\n",
              "      border: none;\n",
              "      border-radius: 50%;\n",
              "      cursor: pointer;\n",
              "      display: none;\n",
              "      fill: #1967D2;\n",
              "      height: 32px;\n",
              "      padding: 0 0 0 0;\n",
              "      width: 32px;\n",
              "    }\n",
              "\n",
              "    .colab-df-convert:hover {\n",
              "      background-color: #E2EBFA;\n",
              "      box-shadow: 0px 1px 2px rgba(60, 64, 67, 0.3), 0px 1px 3px 1px rgba(60, 64, 67, 0.15);\n",
              "      fill: #174EA6;\n",
              "    }\n",
              "\n",
              "    [theme=dark] .colab-df-convert {\n",
              "      background-color: #3B4455;\n",
              "      fill: #D2E3FC;\n",
              "    }\n",
              "\n",
              "    [theme=dark] .colab-df-convert:hover {\n",
              "      background-color: #434B5C;\n",
              "      box-shadow: 0px 1px 3px 1px rgba(0, 0, 0, 0.15);\n",
              "      filter: drop-shadow(0px 1px 2px rgba(0, 0, 0, 0.3));\n",
              "      fill: #FFFFFF;\n",
              "    }\n",
              "  </style>\n",
              "\n",
              "      <script>\n",
              "        const buttonEl =\n",
              "          document.querySelector('#df-cb1f1a8a-15dd-4b26-a19d-cea83a738e70 button.colab-df-convert');\n",
              "        buttonEl.style.display =\n",
              "          google.colab.kernel.accessAllowed ? 'block' : 'none';\n",
              "\n",
              "        async function convertToInteractive(key) {\n",
              "          const element = document.querySelector('#df-cb1f1a8a-15dd-4b26-a19d-cea83a738e70');\n",
              "          const dataTable =\n",
              "            await google.colab.kernel.invokeFunction('convertToInteractive',\n",
              "                                                     [key], {});\n",
              "          if (!dataTable) return;\n",
              "\n",
              "          const docLinkHtml = 'Like what you see? Visit the ' +\n",
              "            '<a target=\"_blank\" href=https://colab.research.google.com/notebooks/data_table.ipynb>data table notebook</a>'\n",
              "            + ' to learn more about interactive tables.';\n",
              "          element.innerHTML = '';\n",
              "          dataTable['output_type'] = 'display_data';\n",
              "          await google.colab.output.renderOutput(dataTable, element);\n",
              "          const docLink = document.createElement('div');\n",
              "          docLink.innerHTML = docLinkHtml;\n",
              "          element.appendChild(docLink);\n",
              "        }\n",
              "      </script>\n",
              "    </div>\n",
              "  </div>\n",
              "  "
            ]
          },
          "metadata": {},
          "execution_count": 55
        }
      ]
    },
    {
      "cell_type": "code",
      "source": [],
      "metadata": {
        "id": "xlHuYBl4mZ3c"
      },
      "execution_count": null,
      "outputs": []
    },
    {
      "cell_type": "code",
      "source": [
        "sns.heatmap(df.corr(),annot=True)"
      ],
      "metadata": {
        "colab": {
          "base_uri": "https://localhost:8080/",
          "height": 387
        },
        "id": "f3eSsbZNS6cW",
        "outputId": "ded06a47-bc9d-4857-8264-5852c7f16e43"
      },
      "execution_count": null,
      "outputs": [
        {
          "output_type": "execute_result",
          "data": {
            "text/plain": [
              "<AxesSubplot:>"
            ]
          },
          "metadata": {},
          "execution_count": 56
        },
        {
          "output_type": "display_data",
          "data": {
            "text/plain": [
              "<Figure size 432x288 with 2 Axes>"
            ],
            "image/png": "[encoded data removed]"
          },
          "metadata": {
            "needs_background": "light"
          }
        }
      ]
    },
    {
      "cell_type": "code",
      "source": [],
      "metadata": {
        "id": "HlOJ9WiMmcji"
      },
      "execution_count": null,
      "outputs": []
    },
    {
      "cell_type": "markdown",
      "source": [
        "Categorical variables or not considered for clusterring\n",
        "Based on the heat map,highly corelated variables are avoided for clustering\n",
        "So the selected variables are  [\"Ad - Length\",\"Ad- Width\",'Impressions','Clicks','Spend',\"Revenue\"]\n"
      ],
      "metadata": {
        "id": "9hzFat_AmelB"
      }
    },
    {
      "cell_type": "code",
      "source": [
        "selected_columns = [\"Ad - Length\",\"Ad- Width\",'Impressions','Clicks','Spend',\"Revenue\"]\n"
      ],
      "metadata": {
        "id": "szOeuYamA5TK"
      },
      "execution_count": null,
      "outputs": []
    },
    {
      "cell_type": "code",
      "source": [
        "cluster_data=df.loc[:,selected_columns]\n",
        "X=cluster_data\n",
        "X"
      ],
      "metadata": {
        "colab": {
          "base_uri": "https://localhost:8080/",
          "height": 423
        },
        "id": "N_gwf4MYBzcU",
        "outputId": "2c4bd794-8d6f-42fc-8afb-f61fccad4611"
      },
      "execution_count": null,
      "outputs": [
        {
          "output_type": "execute_result",
          "data": {
            "text/plain": [
              "       Ad - Length  Ad- Width  Impressions  Clicks    Spend    Revenue\n",
              "0              300        250          323       1     0.00     0.0000\n",
              "1              300        250          285       1     0.00     0.0000\n",
              "2              300        250          355       1     0.00     0.0000\n",
              "3              300        250          495       1     0.00     0.0000\n",
              "4              300        250          242       1     0.00     0.0000\n",
              "...            ...        ...          ...     ...      ...        ...\n",
              "18354          336        250        39115    5346   481.59   313.0335\n",
              "18355          720        300       169895   25169  1491.26   969.3190\n",
              "18356          336        250        84664   15807   794.39   516.3535\n",
              "18357          300        250      2002900    5062  3586.57  2403.0019\n",
              "18358          336        250       989967    4139  1777.90  1155.6350\n",
              "\n",
              "[18330 rows x 6 columns]"
            ],
            "text/html": [
              "\n",
              "  <div id=\"df-ce9a8433-07a8-45a5-bdb0-6f7ae562239b\">\n",
              "    <div class=\"colab-df-container\">\n",
              "      <div>\n",
              "<style scoped>\n",
              "    .dataframe tbody tr th:only-of-type {\n",
              "        vertical-align: middle;\n",
              "    }\n",
              "\n",
              "    .dataframe tbody tr th {\n",
              "        vertical-align: top;\n",
              "    }\n",
              "\n",
              "    .dataframe thead th {\n",
              "        text-align: right;\n",
              "    }\n",
              "</style>\n",
              "<table border=\"1\" class=\"dataframe\">\n",
              "  <thead>\n",
              "    <tr style=\"text-align: right;\">\n",
              "      <th></th>\n",
              "      <th>Ad - Length</th>\n",
              "      <th>Ad- Width</th>\n",
              "      <th>Impressions</th>\n",
              "      <th>Clicks</th>\n",
              "      <th>Spend</th>\n",
              "      <th>Revenue</th>\n",
              "    </tr>\n",
              "  </thead>\n",
              "  <tbody>\n",
              "    <tr>\n",
              "      <th>0</th>\n",
              "      <td>300</td>\n",
              "      <td>250</td>\n",
              "      <td>323</td>\n",
              "      <td>1</td>\n",
              "      <td>0.00</td>\n",
              "      <td>0.0000</td>\n",
              "    </tr>\n",
              "    <tr>\n",
              "      <th>1</th>\n",
              "      <td>300</td>\n",
              "      <td>250</td>\n",
              "      <td>285</td>\n",
              "      <td>1</td>\n",
              "      <td>0.00</td>\n",
              "      <td>0.0000</td>\n",
              "    </tr>\n",
              "    <tr>\n",
              "      <th>2</th>\n",
              "      <td>300</td>\n",
              "      <td>250</td>\n",
              "      <td>355</td>\n",
              "      <td>1</td>\n",
              "      <td>0.00</td>\n",
              "      <td>0.0000</td>\n",
              "    </tr>\n",
              "    <tr>\n",
              "      <th>3</th>\n",
              "      <td>300</td>\n",
              "      <td>250</td>\n",
              "      <td>495</td>\n",
              "      <td>1</td>\n",
              "      <td>0.00</td>\n",
              "      <td>0.0000</td>\n",
              "    </tr>\n",
              "    <tr>\n",
              "      <th>4</th>\n",
              "      <td>300</td>\n",
              "      <td>250</td>\n",
              "      <td>242</td>\n",
              "      <td>1</td>\n",
              "      <td>0.00</td>\n",
              "      <td>0.0000</td>\n",
              "    </tr>\n",
              "    <tr>\n",
              "      <th>...</th>\n",
              "      <td>...</td>\n",
              "      <td>...</td>\n",
              "      <td>...</td>\n",
              "      <td>...</td>\n",
              "      <td>...</td>\n",
              "      <td>...</td>\n",
              "    </tr>\n",
              "    <tr>\n",
              "      <th>18354</th>\n",
              "      <td>336</td>\n",
              "      <td>250</td>\n",
              "      <td>39115</td>\n",
              "      <td>5346</td>\n",
              "      <td>481.59</td>\n",
              "      <td>313.0335</td>\n",
              "    </tr>\n",
              "    <tr>\n",
              "      <th>18355</th>\n",
              "      <td>720</td>\n",
              "      <td>300</td>\n",
              "      <td>169895</td>\n",
              "      <td>25169</td>\n",
              "      <td>1491.26</td>\n",
              "      <td>969.3190</td>\n",
              "    </tr>\n",
              "    <tr>\n",
              "      <th>18356</th>\n",
              "      <td>336</td>\n",
              "      <td>250</td>\n",
              "      <td>84664</td>\n",
              "      <td>15807</td>\n",
              "      <td>794.39</td>\n",
              "      <td>516.3535</td>\n",
              "    </tr>\n",
              "    <tr>\n",
              "      <th>18357</th>\n",
              "      <td>300</td>\n",
              "      <td>250</td>\n",
              "      <td>2002900</td>\n",
              "      <td>5062</td>\n",
              "      <td>3586.57</td>\n",
              "      <td>2403.0019</td>\n",
              "    </tr>\n",
              "    <tr>\n",
              "      <th>18358</th>\n",
              "      <td>336</td>\n",
              "      <td>250</td>\n",
              "      <td>989967</td>\n",
              "      <td>4139</td>\n",
              "      <td>1777.90</td>\n",
              "      <td>1155.6350</td>\n",
              "    </tr>\n",
              "  </tbody>\n",
              "</table>\n",
              "<p>18330 rows × 6 columns</p>\n",
              "</div>\n",
              "      <button class=\"colab-df-convert\" onclick=\"convertToInteractive('df-ce9a8433-07a8-45a5-bdb0-6f7ae562239b')\"\n",
              "              title=\"Convert this dataframe to an interactive table.\"\n",
              "              style=\"display:none;\">\n",
              "        \n",
              "  <svg xmlns=\"http://www.w3.org/2000/svg\" height=\"24px\"viewBox=\"0 0 24 24\"\n",
              "       width=\"24px\">\n",
              "    <path d=\"M0 0h24v24H0V0z\" fill=\"none\"/>\n",
              "    <path d=\"M18.56 5.44l.94 2.06.94-2.06 2.06-.94-2.06-.94-.94-2.06-.94 2.06-2.06.94zm-11 1L8.5 8.5l.94-2.06 2.06-.94-2.06-.94L8.5 2.5l-.94 2.06-2.06.94zm10 10l.94 2.06.94-2.06 2.06-.94-2.06-.94-.94-2.06-.94 2.06-2.06.94z\"/><path d=\"M17.41 7.96l-1.37-1.37c-.4-.4-.92-.59-1.43-.59-.52 0-1.04.2-1.43.59L10.3 9.45l-7.72 7.72c-.78.78-.78 2.05 0 2.83L4 21.41c.39.39.9.59 1.41.59.51 0 1.02-.2 1.41-.59l7.78-7.78 2.81-2.81c.8-.78.8-2.07 0-2.86zM5.41 20L4 18.59l7.72-7.72 1.47 1.35L5.41 20z\"/>\n",
              "  </svg>\n",
              "      </button>\n",
              "      \n",
              "  <style>\n",
              "    .colab-df-container {\n",
              "      display:flex;\n",
              "      flex-wrap:wrap;\n",
              "      gap: 12px;\n",
              "    }\n",
              "\n",
              "    .colab-df-convert {\n",
              "      background-color: #E8F0FE;\n",
              "      border: none;\n",
              "      border-radius: 50%;\n",
              "      cursor: pointer;\n",
              "      display: none;\n",
              "      fill: #1967D2;\n",
              "      height: 32px;\n",
              "      padding: 0 0 0 0;\n",
              "      width: 32px;\n",
              "    }\n",
              "\n",
              "    .colab-df-convert:hover {\n",
              "      background-color: #E2EBFA;\n",
              "      box-shadow: 0px 1px 2px rgba(60, 64, 67, 0.3), 0px 1px 3px 1px rgba(60, 64, 67, 0.15);\n",
              "      fill: #174EA6;\n",
              "    }\n",
              "\n",
              "    [theme=dark] .colab-df-convert {\n",
              "      background-color: #3B4455;\n",
              "      fill: #D2E3FC;\n",
              "    }\n",
              "\n",
              "    [theme=dark] .colab-df-convert:hover {\n",
              "      background-color: #434B5C;\n",
              "      box-shadow: 0px 1px 3px 1px rgba(0, 0, 0, 0.15);\n",
              "      filter: drop-shadow(0px 1px 2px rgba(0, 0, 0, 0.3));\n",
              "      fill: #FFFFFF;\n",
              "    }\n",
              "  </style>\n",
              "\n",
              "      <script>\n",
              "        const buttonEl =\n",
              "          document.querySelector('#df-ce9a8433-07a8-45a5-bdb0-6f7ae562239b button.colab-df-convert');\n",
              "        buttonEl.style.display =\n",
              "          google.colab.kernel.accessAllowed ? 'block' : 'none';\n",
              "\n",
              "        async function convertToInteractive(key) {\n",
              "          const element = document.querySelector('#df-ce9a8433-07a8-45a5-bdb0-6f7ae562239b');\n",
              "          const dataTable =\n",
              "            await google.colab.kernel.invokeFunction('convertToInteractive',\n",
              "                                                     [key], {});\n",
              "          if (!dataTable) return;\n",
              "\n",
              "          const docLinkHtml = 'Like what you see? Visit the ' +\n",
              "            '<a target=\"_blank\" href=https://colab.research.google.com/notebooks/data_table.ipynb>data table notebook</a>'\n",
              "            + ' to learn more about interactive tables.';\n",
              "          element.innerHTML = '';\n",
              "          dataTable['output_type'] = 'display_data';\n",
              "          await google.colab.output.renderOutput(dataTable, element);\n",
              "          const docLink = document.createElement('div');\n",
              "          docLink.innerHTML = docLinkHtml;\n",
              "          element.appendChild(docLink);\n",
              "        }\n",
              "      </script>\n",
              "    </div>\n",
              "  </div>\n",
              "  "
            ]
          },
          "metadata": {},
          "execution_count": 58
        }
      ]
    },
    {
      "cell_type": "code",
      "source": [],
      "metadata": {
        "id": "6Yk1OtoCrYD8"
      },
      "execution_count": null,
      "outputs": []
    },
    {
      "cell_type": "code",
      "source": [
        "from sklearn.preprocessing import StandardScaler"
      ],
      "metadata": {
        "id": "Oom0Dc2gfcGD"
      },
      "execution_count": null,
      "outputs": []
    },
    {
      "cell_type": "code",
      "source": [
        "#Scaling the data and storing the output as a new dataframe\n",
        "scaler=StandardScaler()\n",
        "data_scaled=pd.DataFrame(scaler.fit_transform(X), columns=X.columns)\n",
        "data_scaled.head()\n",
        "Y=data_scaled #for kmeans\n",
        "Z=data_scaled #for hierachical\n",
        "Y.describe()"
      ],
      "metadata": {
        "id": "vZaTVKPyfRY9",
        "colab": {
          "base_uri": "https://localhost:8080/",
          "height": 300
        },
        "outputId": "976f7bbe-c26c-4baf-fccb-a6c579976673"
      },
      "execution_count": null,
      "outputs": [
        {
          "output_type": "execute_result",
          "data": {
            "text/plain": [
              "        Ad - Length     Ad- Width   Impressions        Clicks         Spend  \\\n",
              "count  1.833000e+04  1.833000e+04  1.833000e+04  18330.000000  18330.000000   \n",
              "mean  -1.674602e-16 -9.923565e-17 -4.961782e-17      0.000000      0.000000   \n",
              "std    1.000027e+00  1.000027e+00  1.000027e+00      1.000027      1.000027   \n",
              "min   -1.169747e+00 -1.285005e+00 -5.316360e-01     -0.639574     -0.695210   \n",
              "25%   -1.169747e+00 -3.923031e-01 -5.236370e-01     -0.586396     -0.648054   \n",
              "50%   -2.209397e-01 -3.923031e-01 -4.222089e-01     -0.356341     -0.326395   \n",
              "75%    1.465828e+00  1.343507e+00 -4.258774e-02      0.148008      0.148677   \n",
              "max    1.500969e+00  1.343507e+00  5.171809e+00      7.427303      5.842007   \n",
              "\n",
              "            Revenue  \n",
              "count  18330.000000  \n",
              "mean       0.000000  \n",
              "std        1.000027  \n",
              "min       -0.646406  \n",
              "25%       -0.606308  \n",
              "50%       -0.332794  \n",
              "75%        0.093249  \n",
              "max        6.109600  "
            ],
            "text/html": [
              "\n",
              "  <div id=\"df-3ad7d19c-3c61-4fa8-ba5a-bf94881c5342\">\n",
              "    <div class=\"colab-df-container\">\n",
              "      <div>\n",
              "<style scoped>\n",
              "    .dataframe tbody tr th:only-of-type {\n",
              "        vertical-align: middle;\n",
              "    }\n",
              "\n",
              "    .dataframe tbody tr th {\n",
              "        vertical-align: top;\n",
              "    }\n",
              "\n",
              "    .dataframe thead th {\n",
              "        text-align: right;\n",
              "    }\n",
              "</style>\n",
              "<table border=\"1\" class=\"dataframe\">\n",
              "  <thead>\n",
              "    <tr style=\"text-align: right;\">\n",
              "      <th></th>\n",
              "      <th>Ad - Length</th>\n",
              "      <th>Ad- Width</th>\n",
              "      <th>Impressions</th>\n",
              "      <th>Clicks</th>\n",
              "      <th>Spend</th>\n",
              "      <th>Revenue</th>\n",
              "    </tr>\n",
              "  </thead>\n",
              "  <tbody>\n",
              "    <tr>\n",
              "      <th>count</th>\n",
              "      <td>1.833000e+04</td>\n",
              "      <td>1.833000e+04</td>\n",
              "      <td>1.833000e+04</td>\n",
              "      <td>18330.000000</td>\n",
              "      <td>18330.000000</td>\n",
              "      <td>18330.000000</td>\n",
              "    </tr>\n",
              "    <tr>\n",
              "      <th>mean</th>\n",
              "      <td>-1.674602e-16</td>\n",
              "      <td>-9.923565e-17</td>\n",
              "      <td>-4.961782e-17</td>\n",
              "      <td>0.000000</td>\n",
              "      <td>0.000000</td>\n",
              "      <td>0.000000</td>\n",
              "    </tr>\n",
              "    <tr>\n",
              "      <th>std</th>\n",
              "      <td>1.000027e+00</td>\n",
              "      <td>1.000027e+00</td>\n",
              "      <td>1.000027e+00</td>\n",
              "      <td>1.000027</td>\n",
              "      <td>1.000027</td>\n",
              "      <td>1.000027</td>\n",
              "    </tr>\n",
              "    <tr>\n",
              "      <th>min</th>\n",
              "      <td>-1.169747e+00</td>\n",
              "      <td>-1.285005e+00</td>\n",
              "      <td>-5.316360e-01</td>\n",
              "      <td>-0.639574</td>\n",
              "      <td>-0.695210</td>\n",
              "      <td>-0.646406</td>\n",
              "    </tr>\n",
              "    <tr>\n",
              "      <th>25%</th>\n",
              "      <td>-1.169747e+00</td>\n",
              "      <td>-3.923031e-01</td>\n",
              "      <td>-5.236370e-01</td>\n",
              "      <td>-0.586396</td>\n",
              "      <td>-0.648054</td>\n",
              "      <td>-0.606308</td>\n",
              "    </tr>\n",
              "    <tr>\n",
              "      <th>50%</th>\n",
              "      <td>-2.209397e-01</td>\n",
              "      <td>-3.923031e-01</td>\n",
              "      <td>-4.222089e-01</td>\n",
              "      <td>-0.356341</td>\n",
              "      <td>-0.326395</td>\n",
              "      <td>-0.332794</td>\n",
              "    </tr>\n",
              "    <tr>\n",
              "      <th>75%</th>\n",
              "      <td>1.465828e+00</td>\n",
              "      <td>1.343507e+00</td>\n",
              "      <td>-4.258774e-02</td>\n",
              "      <td>0.148008</td>\n",
              "      <td>0.148677</td>\n",
              "      <td>0.093249</td>\n",
              "    </tr>\n",
              "    <tr>\n",
              "      <th>max</th>\n",
              "      <td>1.500969e+00</td>\n",
              "      <td>1.343507e+00</td>\n",
              "      <td>5.171809e+00</td>\n",
              "      <td>7.427303</td>\n",
              "      <td>5.842007</td>\n",
              "      <td>6.109600</td>\n",
              "    </tr>\n",
              "  </tbody>\n",
              "</table>\n",
              "</div>\n",
              "      <button class=\"colab-df-convert\" onclick=\"convertToInteractive('df-3ad7d19c-3c61-4fa8-ba5a-bf94881c5342')\"\n",
              "              title=\"Convert this dataframe to an interactive table.\"\n",
              "              style=\"display:none;\">\n",
              "        \n",
              "  <svg xmlns=\"http://www.w3.org/2000/svg\" height=\"24px\"viewBox=\"0 0 24 24\"\n",
              "       width=\"24px\">\n",
              "    <path d=\"M0 0h24v24H0V0z\" fill=\"none\"/>\n",
              "    <path d=\"M18.56 5.44l.94 2.06.94-2.06 2.06-.94-2.06-.94-.94-2.06-.94 2.06-2.06.94zm-11 1L8.5 8.5l.94-2.06 2.06-.94-2.06-.94L8.5 2.5l-.94 2.06-2.06.94zm10 10l.94 2.06.94-2.06 2.06-.94-2.06-.94-.94-2.06-.94 2.06-2.06.94z\"/><path d=\"M17.41 7.96l-1.37-1.37c-.4-.4-.92-.59-1.43-.59-.52 0-1.04.2-1.43.59L10.3 9.45l-7.72 7.72c-.78.78-.78 2.05 0 2.83L4 21.41c.39.39.9.59 1.41.59.51 0 1.02-.2 1.41-.59l7.78-7.78 2.81-2.81c.8-.78.8-2.07 0-2.86zM5.41 20L4 18.59l7.72-7.72 1.47 1.35L5.41 20z\"/>\n",
              "  </svg>\n",
              "      </button>\n",
              "      \n",
              "  <style>\n",
              "    .colab-df-container {\n",
              "      display:flex;\n",
              "      flex-wrap:wrap;\n",
              "      gap: 12px;\n",
              "    }\n",
              "\n",
              "    .colab-df-convert {\n",
              "      background-color: #E8F0FE;\n",
              "      border: none;\n",
              "      border-radius: 50%;\n",
              "      cursor: pointer;\n",
              "      display: none;\n",
              "      fill: #1967D2;\n",
              "      height: 32px;\n",
              "      padding: 0 0 0 0;\n",
              "      width: 32px;\n",
              "    }\n",
              "\n",
              "    .colab-df-convert:hover {\n",
              "      background-color: #E2EBFA;\n",
              "      box-shadow: 0px 1px 2px rgba(60, 64, 67, 0.3), 0px 1px 3px 1px rgba(60, 64, 67, 0.15);\n",
              "      fill: #174EA6;\n",
              "    }\n",
              "\n",
              "    [theme=dark] .colab-df-convert {\n",
              "      background-color: #3B4455;\n",
              "      fill: #D2E3FC;\n",
              "    }\n",
              "\n",
              "    [theme=dark] .colab-df-convert:hover {\n",
              "      background-color: #434B5C;\n",
              "      box-shadow: 0px 1px 3px 1px rgba(0, 0, 0, 0.15);\n",
              "      filter: drop-shadow(0px 1px 2px rgba(0, 0, 0, 0.3));\n",
              "      fill: #FFFFFF;\n",
              "    }\n",
              "  </style>\n",
              "\n",
              "      <script>\n",
              "        const buttonEl =\n",
              "          document.querySelector('#df-3ad7d19c-3c61-4fa8-ba5a-bf94881c5342 button.colab-df-convert');\n",
              "        buttonEl.style.display =\n",
              "          google.colab.kernel.accessAllowed ? 'block' : 'none';\n",
              "\n",
              "        async function convertToInteractive(key) {\n",
              "          const element = document.querySelector('#df-3ad7d19c-3c61-4fa8-ba5a-bf94881c5342');\n",
              "          const dataTable =\n",
              "            await google.colab.kernel.invokeFunction('convertToInteractive',\n",
              "                                                     [key], {});\n",
              "          if (!dataTable) return;\n",
              "\n",
              "          const docLinkHtml = 'Like what you see? Visit the ' +\n",
              "            '<a target=\"_blank\" href=https://colab.research.google.com/notebooks/data_table.ipynb>data table notebook</a>'\n",
              "            + ' to learn more about interactive tables.';\n",
              "          element.innerHTML = '';\n",
              "          dataTable['output_type'] = 'display_data';\n",
              "          await google.colab.output.renderOutput(dataTable, element);\n",
              "          const docLink = document.createElement('div');\n",
              "          docLink.innerHTML = docLinkHtml;\n",
              "          element.appendChild(docLink);\n",
              "        }\n",
              "      </script>\n",
              "    </div>\n",
              "  </div>\n",
              "  "
            ]
          },
          "metadata": {},
          "execution_count": 60
        }
      ]
    },
    {
      "cell_type": "code",
      "source": [
        "# Using the dendrogram to find the optimal numbers of clusters. \n",
        "\n",
        "import scipy.cluster.hierarchy as sch\n",
        "\n",
        "#Lets create a dendrogram variable \n",
        "# linkage is actually the algorithm itself of hierarchical clustering and then in \n",
        "#linkage we have to specify on which data we apply and engage. This is X dataset\n",
        "dendrogram = sch.dendrogram(sch.linkage(Z, method  = \"ward\"))\n",
        "plt.title('Dendrogram')\n",
        "plt.xlabel('Customers')\n",
        "plt.ylabel('Euclidean distances')\n",
        "plt.show()"
      ],
      "metadata": {
        "colab": {
          "base_uri": "https://localhost:8080/",
          "height": 301
        },
        "id": "-RVfZqG3u_0h",
        "outputId": "7b68c371-b508-4dc8-afff-a6761b940c66"
      },
      "execution_count": null,
      "outputs": [
        {
          "output_type": "display_data",
          "data": {
            "text/plain": [
              "<Figure size 432x288 with 1 Axes>"
            ],
            "image/png": "[encoded data removed]"
          },
          "metadata": {
            "needs_background": "light"
          }
        }
      ]
    },
    {
      "cell_type": "markdown",
      "source": [
        "(longest vertical distance we can without crossing any horizontal lines,)  For this dataset, the optimum cluster number will be 2."
      ],
      "metadata": {
        "id": "glYLOeyqxvc-"
      }
    },
    {
      "cell_type": "markdown",
      "metadata": {
        "id": "nWC2EWp2Lx5G"
      },
      "source": [
        "K Means clustering\n"
      ]
    },
    {
      "cell_type": "code",
      "source": [
        "from sklearn.cluster import KMeans \n",
        "from sklearn.metrics import silhouette_score"
      ],
      "metadata": {
        "id": "9l7PcUjV2CfS"
      },
      "execution_count": null,
      "outputs": []
    },
    {
      "cell_type": "code",
      "source": [
        "wss =[] \n",
        "for i in range(1,11):\n",
        "    KM = KMeans(n_clusters=i,random_state=1)\n",
        "    KM.fit(Y)\n",
        "    wss.append(KM.inertia_)\n",
        "    labels = KM.predict(Y)\n",
        "wss\n"
      ],
      "metadata": {
        "id": "S-vocYo01t2K",
        "colab": {
          "base_uri": "https://localhost:8080/"
        },
        "outputId": "62a7f16a-cfb2-4e13-ffc8-0fe5c32e0cdc"
      },
      "execution_count": null,
      "outputs": [
        {
          "output_type": "stream",
          "name": "stderr",
          "text": [
            "/usr/local/lib/python3.9/dist-packages/sklearn/cluster/_kmeans.py:870: FutureWarning: The default value of `n_init` will change from 10 to 'auto' in 1.4. Set the value of `n_init` explicitly to suppress the warning\n",
            "  warnings.warn(\n",
            "/usr/local/lib/python3.9/dist-packages/sklearn/cluster/_kmeans.py:870: FutureWarning: The default value of `n_init` will change from 10 to 'auto' in 1.4. Set the value of `n_init` explicitly to suppress the warning\n",
            "  warnings.warn(\n",
            "/usr/local/lib/python3.9/dist-packages/sklearn/cluster/_kmeans.py:870: FutureWarning: The default value of `n_init` will change from 10 to 'auto' in 1.4. Set the value of `n_init` explicitly to suppress the warning\n",
            "  warnings.warn(\n",
            "/usr/local/lib/python3.9/dist-packages/sklearn/cluster/_kmeans.py:870: FutureWarning: The default value of `n_init` will change from 10 to 'auto' in 1.4. Set the value of `n_init` explicitly to suppress the warning\n",
            "  warnings.warn(\n",
            "/usr/local/lib/python3.9/dist-packages/sklearn/cluster/_kmeans.py:870: FutureWarning: The default value of `n_init` will change from 10 to 'auto' in 1.4. Set the value of `n_init` explicitly to suppress the warning\n",
            "  warnings.warn(\n",
            "/usr/local/lib/python3.9/dist-packages/sklearn/cluster/_kmeans.py:870: FutureWarning: The default value of `n_init` will change from 10 to 'auto' in 1.4. Set the value of `n_init` explicitly to suppress the warning\n",
            "  warnings.warn(\n",
            "/usr/local/lib/python3.9/dist-packages/sklearn/cluster/_kmeans.py:870: FutureWarning: The default value of `n_init` will change from 10 to 'auto' in 1.4. Set the value of `n_init` explicitly to suppress the warning\n",
            "  warnings.warn(\n",
            "/usr/local/lib/python3.9/dist-packages/sklearn/cluster/_kmeans.py:870: FutureWarning: The default value of `n_init` will change from 10 to 'auto' in 1.4. Set the value of `n_init` explicitly to suppress the warning\n",
            "  warnings.warn(\n",
            "/usr/local/lib/python3.9/dist-packages/sklearn/cluster/_kmeans.py:870: FutureWarning: The default value of `n_init` will change from 10 to 'auto' in 1.4. Set the value of `n_init` explicitly to suppress the warning\n",
            "  warnings.warn(\n",
            "/usr/local/lib/python3.9/dist-packages/sklearn/cluster/_kmeans.py:870: FutureWarning: The default value of `n_init` will change from 10 to 'auto' in 1.4. Set the value of `n_init` explicitly to suppress the warning\n",
            "  warnings.warn(\n"
          ]
        },
        {
          "output_type": "execute_result",
          "data": {
            "text/plain": [
              "[109979.99999999983,\n",
              " 65981.41012216572,\n",
              " 41620.952255480326,\n",
              " 23580.4304490616,\n",
              " 16458.8694002062,\n",
              " 12146.430463195797,\n",
              " 10103.266770919254,\n",
              " 8580.687652398654,\n",
              " 7536.862065900819,\n",
              " 6838.98397034357]"
            ]
          },
          "metadata": {},
          "execution_count": 63
        }
      ]
    },
    {
      "cell_type": "code",
      "source": [
        "plt.plot(range(1, 11), wss)\n",
        "plt.title('The Elbow Method')\n",
        "plt.xlabel('Number of clusters')\n",
        "plt.ylabel('WCSS')\n",
        "plt.show()"
      ],
      "metadata": {
        "colab": {
          "base_uri": "https://localhost:8080/",
          "height": 295
        },
        "id": "7qSOCtzd2NIy",
        "outputId": "53a4c482-9017-420e-8332-22fa8c5218f2"
      },
      "execution_count": null,
      "outputs": [
        {
          "output_type": "display_data",
          "data": {
            "text/plain": [
              "<Figure size 432x288 with 1 Axes>"
            ],
            "image/png": "[encoded data removed]"
          },
          "metadata": {
            "needs_background": "light"
          }
        }
      ]
    },
    {
      "cell_type": "code",
      "source": [],
      "metadata": {
        "id": "bEJZnbxKX1Kk"
      },
      "execution_count": null,
      "outputs": []
    },
    {
      "cell_type": "code",
      "source": [
        "#Empty dictionary to store the Silhouette score for each value of k\n",
        "sc = {} \n",
        "# iterate for a range of Ks and fit the scaled data to the algorithm. Store the Silhouette score for that k \n",
        "for k in range(2,10):\n",
        "    kmeans_s=KMeans(n_clusters=k, random_state=1).fit(Y)\n",
        "    labels_s= kmeans_s.predict(Y)\n",
        "    sc[k] = silhouette_score(Y, labels_s)\n",
        "    print(\"sil s\",sc[k] )"
      ],
      "metadata": {
        "colab": {
          "base_uri": "https://localhost:8080/"
        },
        "id": "6lLDFeSbXfZk",
        "outputId": "e2767be6-9b22-49b9-f3c2-13a37eb3c9ba"
      },
      "execution_count": null,
      "outputs": [
        {
          "output_type": "stream",
          "name": "stderr",
          "text": [
            "/usr/local/lib/python3.9/dist-packages/sklearn/cluster/_kmeans.py:870: FutureWarning: The default value of `n_init` will change from 10 to 'auto' in 1.4. Set the value of `n_init` explicitly to suppress the warning\n",
            "  warnings.warn(\n"
          ]
        },
        {
          "output_type": "stream",
          "name": "stdout",
          "text": [
            "sil s 0.6407396635025561\n"
          ]
        },
        {
          "output_type": "stream",
          "name": "stderr",
          "text": [
            "/usr/local/lib/python3.9/dist-packages/sklearn/cluster/_kmeans.py:870: FutureWarning: The default value of `n_init` will change from 10 to 'auto' in 1.4. Set the value of `n_init` explicitly to suppress the warning\n",
            "  warnings.warn(\n"
          ]
        },
        {
          "output_type": "stream",
          "name": "stdout",
          "text": [
            "sil s 0.5045358075645855\n"
          ]
        },
        {
          "output_type": "stream",
          "name": "stderr",
          "text": [
            "/usr/local/lib/python3.9/dist-packages/sklearn/cluster/_kmeans.py:870: FutureWarning: The default value of `n_init` will change from 10 to 'auto' in 1.4. Set the value of `n_init` explicitly to suppress the warning\n",
            "  warnings.warn(\n"
          ]
        },
        {
          "output_type": "stream",
          "name": "stdout",
          "text": [
            "sil s 0.556790436168561\n"
          ]
        },
        {
          "output_type": "stream",
          "name": "stderr",
          "text": [
            "/usr/local/lib/python3.9/dist-packages/sklearn/cluster/_kmeans.py:870: FutureWarning: The default value of `n_init` will change from 10 to 'auto' in 1.4. Set the value of `n_init` explicitly to suppress the warning\n",
            "  warnings.warn(\n"
          ]
        },
        {
          "output_type": "stream",
          "name": "stdout",
          "text": [
            "sil s 0.5700917249084635\n"
          ]
        },
        {
          "output_type": "stream",
          "name": "stderr",
          "text": [
            "/usr/local/lib/python3.9/dist-packages/sklearn/cluster/_kmeans.py:870: FutureWarning: The default value of `n_init` will change from 10 to 'auto' in 1.4. Set the value of `n_init` explicitly to suppress the warning\n",
            "  warnings.warn(\n"
          ]
        },
        {
          "output_type": "stream",
          "name": "stdout",
          "text": [
            "sil s 0.5986260152891725\n"
          ]
        },
        {
          "output_type": "stream",
          "name": "stderr",
          "text": [
            "/usr/local/lib/python3.9/dist-packages/sklearn/cluster/_kmeans.py:870: FutureWarning: The default value of `n_init` will change from 10 to 'auto' in 1.4. Set the value of `n_init` explicitly to suppress the warning\n",
            "  warnings.warn(\n"
          ]
        },
        {
          "output_type": "stream",
          "name": "stdout",
          "text": [
            "sil s 0.6195730116271617\n"
          ]
        },
        {
          "output_type": "stream",
          "name": "stderr",
          "text": [
            "/usr/local/lib/python3.9/dist-packages/sklearn/cluster/_kmeans.py:870: FutureWarning: The default value of `n_init` will change from 10 to 'auto' in 1.4. Set the value of `n_init` explicitly to suppress the warning\n",
            "  warnings.warn(\n"
          ]
        },
        {
          "output_type": "stream",
          "name": "stdout",
          "text": [
            "sil s 0.6197793126957037\n"
          ]
        },
        {
          "output_type": "stream",
          "name": "stderr",
          "text": [
            "/usr/local/lib/python3.9/dist-packages/sklearn/cluster/_kmeans.py:870: FutureWarning: The default value of `n_init` will change from 10 to 'auto' in 1.4. Set the value of `n_init` explicitly to suppress the warning\n",
            "  warnings.warn(\n"
          ]
        },
        {
          "output_type": "stream",
          "name": "stdout",
          "text": [
            "sil s 0.6154181840038444\n"
          ]
        }
      ]
    },
    {
      "cell_type": "code",
      "source": [
        "#Shree plot\n",
        "plt.figure()\n",
        "plt.plot(list(sc.keys()), list(sc.values()), 'bx-')\n",
        "plt.xlabel(\"Number of cluster\")\n",
        "plt.ylabel(\"Silhouette Score\")\n",
        "plt.show()"
      ],
      "metadata": {
        "colab": {
          "base_uri": "https://localhost:8080/",
          "height": 279
        },
        "id": "P9qGAiYkYpZD",
        "outputId": "26958339-ada7-494c-948c-3026a3694467"
      },
      "execution_count": null,
      "outputs": [
        {
          "output_type": "display_data",
          "data": {
            "text/plain": [
              "<Figure size 432x288 with 1 Axes>"
            ],
            "image/png": "[encoded data removed]"
          },
          "metadata": {
            "needs_background": "light"
          }
        }
      ]
    },
    {
      "cell_type": "markdown",
      "source": [
        "Observations:\n",
        "\n",
        "We can see from the plot that silhouette score is highest for k=2. Well that makes it slightly easy for us and we can start with first understanding these 5 clusters. So let's take the number of clusters as 2\n",
        "*   List item\n",
        "\n"
      ],
      "metadata": {
        "id": "AFTs-Oc3aMIc"
      }
    },
    {
      "cell_type": "code",
      "source": [
        "k_means2 = KMeans(n_clusters = 2,random_state=1,max_iter=300)\n",
        "k_means2.fit(Y)\n",
        "labels2 = k_means2.labels_\n",
        "silhouette_score(Y,labels2)"
      ],
      "metadata": {
        "id": "Iemg3BLZ2jDa",
        "colab": {
          "base_uri": "https://localhost:8080/"
        },
        "outputId": "92f84add-44cf-4d9d-b061-27b5a4fd5912"
      },
      "execution_count": null,
      "outputs": [
        {
          "output_type": "stream",
          "name": "stderr",
          "text": [
            "/usr/local/lib/python3.9/dist-packages/sklearn/cluster/_kmeans.py:870: FutureWarning: The default value of `n_init` will change from 10 to 'auto' in 1.4. Set the value of `n_init` explicitly to suppress the warning\n",
            "  warnings.warn(\n"
          ]
        },
        {
          "output_type": "execute_result",
          "data": {
            "text/plain": [
              "0.6407396635025561"
            ]
          },
          "metadata": {},
          "execution_count": 67
        }
      ]
    },
    {
      "cell_type": "code",
      "source": [
        "df[\"cluster\"]=labels2\n"
      ],
      "metadata": {
        "id": "aA3CjVWgP7qN",
        "colab": {
          "base_uri": "https://localhost:8080/"
        },
        "outputId": "a2235002-ff5a-4817-d546-1fe5893edcec"
      },
      "execution_count": null,
      "outputs": [
        {
          "output_type": "stream",
          "name": "stderr",
          "text": [
            "<ipython-input-68-c2edc7f00430>:1: SettingWithCopyWarning: \n",
            "A value is trying to be set on a copy of a slice from a DataFrame.\n",
            "Try using .loc[row_indexer,col_indexer] = value instead\n",
            "\n",
            "See the caveats in the documentation: https://pandas.pydata.org/pandas-docs/stable/user_guide/indexing.html#returning-a-view-versus-a-copy\n",
            "  df[\"cluster\"]=labels2\n"
          ]
        }
      ]
    },
    {
      "cell_type": "code",
      "source": [
        "df[\"cluster\"].value_counts()"
      ],
      "metadata": {
        "colab": {
          "base_uri": "https://localhost:8080/"
        },
        "id": "Toik51M7Xs-1",
        "outputId": "b878781a-d4ba-4809-94f4-b43bcf148cf6"
      },
      "execution_count": null,
      "outputs": [
        {
          "output_type": "execute_result",
          "data": {
            "text/plain": [
              "0    17129\n",
              "1     1201\n",
              "Name: cluster, dtype: int64"
            ]
          },
          "metadata": {},
          "execution_count": 69
        }
      ]
    },
    {
      "cell_type": "code",
      "source": [
        "df.tail(10)"
      ],
      "metadata": {
        "colab": {
          "base_uri": "https://localhost:8080/",
          "height": 618
        },
        "id": "2Wfj_KwbXfTG",
        "outputId": "9f17f213-4f1e-440c-e710-e9abb0295e84"
      },
      "execution_count": null,
      "outputs": [
        {
          "output_type": "execute_result",
          "data": {
            "text/plain": [
              "           Timestamp InventoryType  Ad - Length  Ad- Width  Ad Size   Ad Type  \\\n",
              "18349  2020-10-28-16       Format2          728         90    65520  Inter222   \n",
              "18350    2020-11-2-2       Format6          336        250    84000  Inter225   \n",
              "18351   2020-11-2-15       Format6          336        250    84000  Inter226   \n",
              "18352    2020-11-2-4       Format4          120        600    72000  inter230   \n",
              "18353    2020-11-2-2       Format6          336        250    84000  Inter227   \n",
              "18354    2020-11-2-6       Format6          336        250    84000  Inter229   \n",
              "18355   2020-11-1-19       Format5          720        300   216000  Inter227   \n",
              "18356   2020-11-2-13       Format6          336        250    84000  Inter228   \n",
              "18357   2020-11-2-12       Format1          300        250    75000  Inter221   \n",
              "18358    2020-11-2-0       Format6          336        250    84000  Inter224   \n",
              "\n",
              "      Platform Device Type   Format  Available_Impressions  Matched_Queries  \\\n",
              "18349    Video     Desktop    Video               24320191         13284700   \n",
              "18350    Video      Mobile    Video                  91712            54413   \n",
              "18351      Web      Mobile  Display                 470903           205044   \n",
              "18352    Video      Mobile    Video                  11655             7719   \n",
              "18353      App      Mobile    Video                1057346           587204   \n",
              "18354    Video     Desktop    Video                  80771            45701   \n",
              "18355      App      Mobile  Display                 505442           196734   \n",
              "18356    Video      Mobile  Display                 169677            99969   \n",
              "18357      App      Mobile  Display                3955744          2028909   \n",
              "18358      Web     Desktop  Display                2503645          1054558   \n",
              "\n",
              "       Impressions  Clicks     Spend   Fee     Revenue        CTR        CPM  \\\n",
              "18349     12844237   21181  26931.87  0.21  21276.1800   0.164907   2.096806   \n",
              "18350        46813    5753    526.03  0.35    341.9195  12.289321  11.236836   \n",
              "18351       177536   26651   1410.00  0.35    916.5000  15.011603   7.942051   \n",
              "18352         6537    1138     91.36  0.35     59.3840  17.408597  13.975830   \n",
              "18353       576016    1176    863.35  0.35    561.1775   0.204161   1.498830   \n",
              "18354        39115    5346    481.59  0.35    313.0335  13.667391  12.312156   \n",
              "18355       169895   25169   1491.26  0.35    969.3190  14.814444   8.777539   \n",
              "18356        84664   15807    794.39  0.35    516.3535  18.670273   9.382855   \n",
              "18357      2002900    5062   3586.57  0.33   2403.0019   0.252734   1.790689   \n",
              "18358       989967    4139   1777.90  0.35   1155.6350   0.418095   1.795918   \n",
              "\n",
              "            CPC  cluster  \n",
              "18349  1.271511        1  \n",
              "18350  0.091436        0  \n",
              "18351  0.052906        0  \n",
              "18352  0.080281        0  \n",
              "18353  0.734141        0  \n",
              "18354  0.090084        0  \n",
              "18355  0.059250        0  \n",
              "18356  0.050256        0  \n",
              "18357  0.708528        0  \n",
              "18358  0.429548        0  "
            ],
            "text/html": [
              "\n",
              "  <div id=\"df-9320aa37-1a40-49a5-b829-5cf4486228c1\">\n",
              "    <div class=\"colab-df-container\">\n",
              "      <div>\n",
              "<style scoped>\n",
              "    .dataframe tbody tr th:only-of-type {\n",
              "        vertical-align: middle;\n",
              "    }\n",
              "\n",
              "    .dataframe tbody tr th {\n",
              "        vertical-align: top;\n",
              "    }\n",
              "\n",
              "    .dataframe thead th {\n",
              "        text-align: right;\n",
              "    }\n",
              "</style>\n",
              "<table border=\"1\" class=\"dataframe\">\n",
              "  <thead>\n",
              "    <tr style=\"text-align: right;\">\n",
              "      <th></th>\n",
              "      <th>Timestamp</th>\n",
              "      <th>InventoryType</th>\n",
              "      <th>Ad - Length</th>\n",
              "      <th>Ad- Width</th>\n",
              "      <th>Ad Size</th>\n",
              "      <th>Ad Type</th>\n",
              "      <th>Platform</th>\n",
              "      <th>Device Type</th>\n",
              "      <th>Format</th>\n",
              "      <th>Available_Impressions</th>\n",
              "      <th>Matched_Queries</th>\n",
              "      <th>Impressions</th>\n",
              "      <th>Clicks</th>\n",
              "      <th>Spend</th>\n",
              "      <th>Fee</th>\n",
              "      <th>Revenue</th>\n",
              "      <th>CTR</th>\n",
              "      <th>CPM</th>\n",
              "      <th>CPC</th>\n",
              "      <th>cluster</th>\n",
              "    </tr>\n",
              "  </thead>\n",
              "  <tbody>\n",
              "    <tr>\n",
              "      <th>18349</th>\n",
              "      <td>2020-10-28-16</td>\n",
              "      <td>Format2</td>\n",
              "      <td>728</td>\n",
              "      <td>90</td>\n",
              "      <td>65520</td>\n",
              "      <td>Inter222</td>\n",
              "      <td>Video</td>\n",
              "      <td>Desktop</td>\n",
              "      <td>Video</td>\n",
              "      <td>24320191</td>\n",
              "      <td>13284700</td>\n",
              "      <td>12844237</td>\n",
              "      <td>21181</td>\n",
              "      <td>26931.87</td>\n",
              "      <td>0.21</td>\n",
              "      <td>21276.1800</td>\n",
              "      <td>0.164907</td>\n",
              "      <td>2.096806</td>\n",
              "      <td>1.271511</td>\n",
              "      <td>1</td>\n",
              "    </tr>\n",
              "    <tr>\n",
              "      <th>18350</th>\n",
              "      <td>2020-11-2-2</td>\n",
              "      <td>Format6</td>\n",
              "      <td>336</td>\n",
              "      <td>250</td>\n",
              "      <td>84000</td>\n",
              "      <td>Inter225</td>\n",
              "      <td>Video</td>\n",
              "      <td>Mobile</td>\n",
              "      <td>Video</td>\n",
              "      <td>91712</td>\n",
              "      <td>54413</td>\n",
              "      <td>46813</td>\n",
              "      <td>5753</td>\n",
              "      <td>526.03</td>\n",
              "      <td>0.35</td>\n",
              "      <td>341.9195</td>\n",
              "      <td>12.289321</td>\n",
              "      <td>11.236836</td>\n",
              "      <td>0.091436</td>\n",
              "      <td>0</td>\n",
              "    </tr>\n",
              "    <tr>\n",
              "      <th>18351</th>\n",
              "      <td>2020-11-2-15</td>\n",
              "      <td>Format6</td>\n",
              "      <td>336</td>\n",
              "      <td>250</td>\n",
              "      <td>84000</td>\n",
              "      <td>Inter226</td>\n",
              "      <td>Web</td>\n",
              "      <td>Mobile</td>\n",
              "      <td>Display</td>\n",
              "      <td>470903</td>\n",
              "      <td>205044</td>\n",
              "      <td>177536</td>\n",
              "      <td>26651</td>\n",
              "      <td>1410.00</td>\n",
              "      <td>0.35</td>\n",
              "      <td>916.5000</td>\n",
              "      <td>15.011603</td>\n",
              "      <td>7.942051</td>\n",
              "      <td>0.052906</td>\n",
              "      <td>0</td>\n",
              "    </tr>\n",
              "    <tr>\n",
              "      <th>18352</th>\n",
              "      <td>2020-11-2-4</td>\n",
              "      <td>Format4</td>\n",
              "      <td>120</td>\n",
              "      <td>600</td>\n",
              "      <td>72000</td>\n",
              "      <td>inter230</td>\n",
              "      <td>Video</td>\n",
              "      <td>Mobile</td>\n",
              "      <td>Video</td>\n",
              "      <td>11655</td>\n",
              "      <td>7719</td>\n",
              "      <td>6537</td>\n",
              "      <td>1138</td>\n",
              "      <td>91.36</td>\n",
              "      <td>0.35</td>\n",
              "      <td>59.3840</td>\n",
              "      <td>17.408597</td>\n",
              "      <td>13.975830</td>\n",
              "      <td>0.080281</td>\n",
              "      <td>0</td>\n",
              "    </tr>\n",
              "    <tr>\n",
              "      <th>18353</th>\n",
              "      <td>2020-11-2-2</td>\n",
              "      <td>Format6</td>\n",
              "      <td>336</td>\n",
              "      <td>250</td>\n",
              "      <td>84000</td>\n",
              "      <td>Inter227</td>\n",
              "      <td>App</td>\n",
              "      <td>Mobile</td>\n",
              "      <td>Video</td>\n",
              "      <td>1057346</td>\n",
              "      <td>587204</td>\n",
              "      <td>576016</td>\n",
              "      <td>1176</td>\n",
              "      <td>863.35</td>\n",
              "      <td>0.35</td>\n",
              "      <td>561.1775</td>\n",
              "      <td>0.204161</td>\n",
              "      <td>1.498830</td>\n",
              "      <td>0.734141</td>\n",
              "      <td>0</td>\n",
              "    </tr>\n",
              "    <tr>\n",
              "      <th>18354</th>\n",
              "      <td>2020-11-2-6</td>\n",
              "      <td>Format6</td>\n",
              "      <td>336</td>\n",
              "      <td>250</td>\n",
              "      <td>84000</td>\n",
              "      <td>Inter229</td>\n",
              "      <td>Video</td>\n",
              "      <td>Desktop</td>\n",
              "      <td>Video</td>\n",
              "      <td>80771</td>\n",
              "      <td>45701</td>\n",
              "      <td>39115</td>\n",
              "      <td>5346</td>\n",
              "      <td>481.59</td>\n",
              "      <td>0.35</td>\n",
              "      <td>313.0335</td>\n",
              "      <td>13.667391</td>\n",
              "      <td>12.312156</td>\n",
              "      <td>0.090084</td>\n",
              "      <td>0</td>\n",
              "    </tr>\n",
              "    <tr>\n",
              "      <th>18355</th>\n",
              "      <td>2020-11-1-19</td>\n",
              "      <td>Format5</td>\n",
              "      <td>720</td>\n",
              "      <td>300</td>\n",
              "      <td>216000</td>\n",
              "      <td>Inter227</td>\n",
              "      <td>App</td>\n",
              "      <td>Mobile</td>\n",
              "      <td>Display</td>\n",
              "      <td>505442</td>\n",
              "      <td>196734</td>\n",
              "      <td>169895</td>\n",
              "      <td>25169</td>\n",
              "      <td>1491.26</td>\n",
              "      <td>0.35</td>\n",
              "      <td>969.3190</td>\n",
              "      <td>14.814444</td>\n",
              "      <td>8.777539</td>\n",
              "      <td>0.059250</td>\n",
              "      <td>0</td>\n",
              "    </tr>\n",
              "    <tr>\n",
              "      <th>18356</th>\n",
              "      <td>2020-11-2-13</td>\n",
              "      <td>Format6</td>\n",
              "      <td>336</td>\n",
              "      <td>250</td>\n",
              "      <td>84000</td>\n",
              "      <td>Inter228</td>\n",
              "      <td>Video</td>\n",
              "      <td>Mobile</td>\n",
              "      <td>Display</td>\n",
              "      <td>169677</td>\n",
              "      <td>99969</td>\n",
              "      <td>84664</td>\n",
              "      <td>15807</td>\n",
              "      <td>794.39</td>\n",
              "      <td>0.35</td>\n",
              "      <td>516.3535</td>\n",
              "      <td>18.670273</td>\n",
              "      <td>9.382855</td>\n",
              "      <td>0.050256</td>\n",
              "      <td>0</td>\n",
              "    </tr>\n",
              "    <tr>\n",
              "      <th>18357</th>\n",
              "      <td>2020-11-2-12</td>\n",
              "      <td>Format1</td>\n",
              "      <td>300</td>\n",
              "      <td>250</td>\n",
              "      <td>75000</td>\n",
              "      <td>Inter221</td>\n",
              "      <td>App</td>\n",
              "      <td>Mobile</td>\n",
              "      <td>Display</td>\n",
              "      <td>3955744</td>\n",
              "      <td>2028909</td>\n",
              "      <td>2002900</td>\n",
              "      <td>5062</td>\n",
              "      <td>3586.57</td>\n",
              "      <td>0.33</td>\n",
              "      <td>2403.0019</td>\n",
              "      <td>0.252734</td>\n",
              "      <td>1.790689</td>\n",
              "      <td>0.708528</td>\n",
              "      <td>0</td>\n",
              "    </tr>\n",
              "    <tr>\n",
              "      <th>18358</th>\n",
              "      <td>2020-11-2-0</td>\n",
              "      <td>Format6</td>\n",
              "      <td>336</td>\n",
              "      <td>250</td>\n",
              "      <td>84000</td>\n",
              "      <td>Inter224</td>\n",
              "      <td>Web</td>\n",
              "      <td>Desktop</td>\n",
              "      <td>Display</td>\n",
              "      <td>2503645</td>\n",
              "      <td>1054558</td>\n",
              "      <td>989967</td>\n",
              "      <td>4139</td>\n",
              "      <td>1777.90</td>\n",
              "      <td>0.35</td>\n",
              "      <td>1155.6350</td>\n",
              "      <td>0.418095</td>\n",
              "      <td>1.795918</td>\n",
              "      <td>0.429548</td>\n",
              "      <td>0</td>\n",
              "    </tr>\n",
              "  </tbody>\n",
              "</table>\n",
              "</div>\n",
              "      <button class=\"colab-df-convert\" onclick=\"convertToInteractive('df-9320aa37-1a40-49a5-b829-5cf4486228c1')\"\n",
              "              title=\"Convert this dataframe to an interactive table.\"\n",
              "              style=\"display:none;\">\n",
              "        \n",
              "  <svg xmlns=\"http://www.w3.org/2000/svg\" height=\"24px\"viewBox=\"0 0 24 24\"\n",
              "       width=\"24px\">\n",
              "    <path d=\"M0 0h24v24H0V0z\" fill=\"none\"/>\n",
              "    <path d=\"M18.56 5.44l.94 2.06.94-2.06 2.06-.94-2.06-.94-.94-2.06-.94 2.06-2.06.94zm-11 1L8.5 8.5l.94-2.06 2.06-.94-2.06-.94L8.5 2.5l-.94 2.06-2.06.94zm10 10l.94 2.06.94-2.06 2.06-.94-2.06-.94-.94-2.06-.94 2.06-2.06.94z\"/><path d=\"M17.41 7.96l-1.37-1.37c-.4-.4-.92-.59-1.43-.59-.52 0-1.04.2-1.43.59L10.3 9.45l-7.72 7.72c-.78.78-.78 2.05 0 2.83L4 21.41c.39.39.9.59 1.41.59.51 0 1.02-.2 1.41-.59l7.78-7.78 2.81-2.81c.8-.78.8-2.07 0-2.86zM5.41 20L4 18.59l7.72-7.72 1.47 1.35L5.41 20z\"/>\n",
              "  </svg>\n",
              "      </button>\n",
              "      \n",
              "  <style>\n",
              "    .colab-df-container {\n",
              "      display:flex;\n",
              "      flex-wrap:wrap;\n",
              "      gap: 12px;\n",
              "    }\n",
              "\n",
              "    .colab-df-convert {\n",
              "      background-color: #E8F0FE;\n",
              "      border: none;\n",
              "      border-radius: 50%;\n",
              "      cursor: pointer;\n",
              "      display: none;\n",
              "      fill: #1967D2;\n",
              "      height: 32px;\n",
              "      padding: 0 0 0 0;\n",
              "      width: 32px;\n",
              "    }\n",
              "\n",
              "    .colab-df-convert:hover {\n",
              "      background-color: #E2EBFA;\n",
              "      box-shadow: 0px 1px 2px rgba(60, 64, 67, 0.3), 0px 1px 3px 1px rgba(60, 64, 67, 0.15);\n",
              "      fill: #174EA6;\n",
              "    }\n",
              "\n",
              "    [theme=dark] .colab-df-convert {\n",
              "      background-color: #3B4455;\n",
              "      fill: #D2E3FC;\n",
              "    }\n",
              "\n",
              "    [theme=dark] .colab-df-convert:hover {\n",
              "      background-color: #434B5C;\n",
              "      box-shadow: 0px 1px 3px 1px rgba(0, 0, 0, 0.15);\n",
              "      filter: drop-shadow(0px 1px 2px rgba(0, 0, 0, 0.3));\n",
              "      fill: #FFFFFF;\n",
              "    }\n",
              "  </style>\n",
              "\n",
              "      <script>\n",
              "        const buttonEl =\n",
              "          document.querySelector('#df-9320aa37-1a40-49a5-b829-5cf4486228c1 button.colab-df-convert');\n",
              "        buttonEl.style.display =\n",
              "          google.colab.kernel.accessAllowed ? 'block' : 'none';\n",
              "\n",
              "        async function convertToInteractive(key) {\n",
              "          const element = document.querySelector('#df-9320aa37-1a40-49a5-b829-5cf4486228c1');\n",
              "          const dataTable =\n",
              "            await google.colab.kernel.invokeFunction('convertToInteractive',\n",
              "                                                     [key], {});\n",
              "          if (!dataTable) return;\n",
              "\n",
              "          const docLinkHtml = 'Like what you see? Visit the ' +\n",
              "            '<a target=\"_blank\" href=https://colab.research.google.com/notebooks/data_table.ipynb>data table notebook</a>'\n",
              "            + ' to learn more about interactive tables.';\n",
              "          element.innerHTML = '';\n",
              "          dataTable['output_type'] = 'display_data';\n",
              "          await google.colab.output.renderOutput(dataTable, element);\n",
              "          const docLink = document.createElement('div');\n",
              "          docLink.innerHTML = docLinkHtml;\n",
              "          element.appendChild(docLink);\n",
              "        }\n",
              "      </script>\n",
              "    </div>\n",
              "  </div>\n",
              "  "
            ]
          },
          "metadata": {},
          "execution_count": 70
        }
      ]
    },
    {
      "cell_type": "code",
      "source": [],
      "metadata": {
        "id": "-OBab6TWX39_"
      },
      "execution_count": null,
      "outputs": []
    },
    {
      "cell_type": "code",
      "source": [
        "#Calculating mean and median of the original data for each label\n",
        "mean = df.groupby('cluster').mean()\n",
        "median = df.groupby('cluster').median()\n",
        "df_kmeans = pd.concat([mean, median], axis=0)\n",
        "df_kmeans.index = ['group_0 Mean', 'group_1 Mean', 'group_0 Median', 'group_1 Median']\n",
        "df_kmeans.T\n"
      ],
      "metadata": {
        "colab": {
          "base_uri": "https://localhost:8080/",
          "height": 457
        },
        "outputId": "c2ce532a-f0b6-4ff9-dba4-0437fcc96358",
        "id": "v9LW8q7QX4Um"
      },
      "execution_count": null,
      "outputs": [
        {
          "output_type": "execute_result",
          "data": {
            "text/plain": [
              "                       group_0 Mean  group_1 Mean  group_0 Median  \\\n",
              "Ad - Length            3.657979e+02  6.786744e+02      300.000000   \n",
              "Ad- Width              3.437895e+02  1.196253e+02      300.000000   \n",
              "Ad Size                9.679694e+04  7.051504e+04    72000.000000   \n",
              "Available_Impressions  1.456732e+06  1.862908e+07   480484.000000   \n",
              "Matched_Queries        7.800188e+05  9.937889e+06   255051.000000   \n",
              "Impressions            7.448146e+05  9.571397e+06   223133.000000   \n",
              "Clicks                 1.085468e+04  1.829862e+04     4425.000000   \n",
              "Spend                  1.950655e+03  1.589208e+04     1407.120000   \n",
              "Fee                    3.410882e-01  2.369609e-01        0.350000   \n",
              "Revenue                1.324680e+03  1.217615e+04      914.630000   \n",
              "CTR                    7.869171e+00  1.902120e-01        9.442060   \n",
              "CPM                    8.091896e+00  1.686291e+00        8.584626   \n",
              "CPC                    3.132001e-01  8.915239e-01        0.137551   \n",
              "\n",
              "                       group_1 Median  \n",
              "Ad - Length              7.280000e+02  \n",
              "Ad- Width                9.000000e+01  \n",
              "Ad Size                  6.552000e+04  \n",
              "Available_Impressions    1.919208e+07  \n",
              "Matched_Queries          1.032989e+07  \n",
              "Impressions              9.949968e+06  \n",
              "Clicks                   1.916500e+04  \n",
              "Spend                    1.618905e+04  \n",
              "Fee                      2.300000e-01  \n",
              "Revenue                  1.246557e+04  \n",
              "CTR                      1.925802e-01  \n",
              "CPM                      1.659533e+00  \n",
              "CPC                      8.468552e-01  "
            ],
            "text/html": [
              "\n",
              "  <div id=\"df-2745f368-1567-491c-a1d0-d794ec1d2763\">\n",
              "    <div class=\"colab-df-container\">\n",
              "      <div>\n",
              "<style scoped>\n",
              "    .dataframe tbody tr th:only-of-type {\n",
              "        vertical-align: middle;\n",
              "    }\n",
              "\n",
              "    .dataframe tbody tr th {\n",
              "        vertical-align: top;\n",
              "    }\n",
              "\n",
              "    .dataframe thead th {\n",
              "        text-align: right;\n",
              "    }\n",
              "</style>\n",
              "<table border=\"1\" class=\"dataframe\">\n",
              "  <thead>\n",
              "    <tr style=\"text-align: right;\">\n",
              "      <th></th>\n",
              "      <th>group_0 Mean</th>\n",
              "      <th>group_1 Mean</th>\n",
              "      <th>group_0 Median</th>\n",
              "      <th>group_1 Median</th>\n",
              "    </tr>\n",
              "  </thead>\n",
              "  <tbody>\n",
              "    <tr>\n",
              "      <th>Ad - Length</th>\n",
              "      <td>3.657979e+02</td>\n",
              "      <td>6.786744e+02</td>\n",
              "      <td>300.000000</td>\n",
              "      <td>7.280000e+02</td>\n",
              "    </tr>\n",
              "    <tr>\n",
              "      <th>Ad- Width</th>\n",
              "      <td>3.437895e+02</td>\n",
              "      <td>1.196253e+02</td>\n",
              "      <td>300.000000</td>\n",
              "      <td>9.000000e+01</td>\n",
              "    </tr>\n",
              "    <tr>\n",
              "      <th>Ad Size</th>\n",
              "      <td>9.679694e+04</td>\n",
              "      <td>7.051504e+04</td>\n",
              "      <td>72000.000000</td>\n",
              "      <td>6.552000e+04</td>\n",
              "    </tr>\n",
              "    <tr>\n",
              "      <th>Available_Impressions</th>\n",
              "      <td>1.456732e+06</td>\n",
              "      <td>1.862908e+07</td>\n",
              "      <td>480484.000000</td>\n",
              "      <td>1.919208e+07</td>\n",
              "    </tr>\n",
              "    <tr>\n",
              "      <th>Matched_Queries</th>\n",
              "      <td>7.800188e+05</td>\n",
              "      <td>9.937889e+06</td>\n",
              "      <td>255051.000000</td>\n",
              "      <td>1.032989e+07</td>\n",
              "    </tr>\n",
              "    <tr>\n",
              "      <th>Impressions</th>\n",
              "      <td>7.448146e+05</td>\n",
              "      <td>9.571397e+06</td>\n",
              "      <td>223133.000000</td>\n",
              "      <td>9.949968e+06</td>\n",
              "    </tr>\n",
              "    <tr>\n",
              "      <th>Clicks</th>\n",
              "      <td>1.085468e+04</td>\n",
              "      <td>1.829862e+04</td>\n",
              "      <td>4425.000000</td>\n",
              "      <td>1.916500e+04</td>\n",
              "    </tr>\n",
              "    <tr>\n",
              "      <th>Spend</th>\n",
              "      <td>1.950655e+03</td>\n",
              "      <td>1.589208e+04</td>\n",
              "      <td>1407.120000</td>\n",
              "      <td>1.618905e+04</td>\n",
              "    </tr>\n",
              "    <tr>\n",
              "      <th>Fee</th>\n",
              "      <td>3.410882e-01</td>\n",
              "      <td>2.369609e-01</td>\n",
              "      <td>0.350000</td>\n",
              "      <td>2.300000e-01</td>\n",
              "    </tr>\n",
              "    <tr>\n",
              "      <th>Revenue</th>\n",
              "      <td>1.324680e+03</td>\n",
              "      <td>1.217615e+04</td>\n",
              "      <td>914.630000</td>\n",
              "      <td>1.246557e+04</td>\n",
              "    </tr>\n",
              "    <tr>\n",
              "      <th>CTR</th>\n",
              "      <td>7.869171e+00</td>\n",
              "      <td>1.902120e-01</td>\n",
              "      <td>9.442060</td>\n",
              "      <td>1.925802e-01</td>\n",
              "    </tr>\n",
              "    <tr>\n",
              "      <th>CPM</th>\n",
              "      <td>8.091896e+00</td>\n",
              "      <td>1.686291e+00</td>\n",
              "      <td>8.584626</td>\n",
              "      <td>1.659533e+00</td>\n",
              "    </tr>\n",
              "    <tr>\n",
              "      <th>CPC</th>\n",
              "      <td>3.132001e-01</td>\n",
              "      <td>8.915239e-01</td>\n",
              "      <td>0.137551</td>\n",
              "      <td>8.468552e-01</td>\n",
              "    </tr>\n",
              "  </tbody>\n",
              "</table>\n",
              "</div>\n",
              "      <button class=\"colab-df-convert\" onclick=\"convertToInteractive('df-2745f368-1567-491c-a1d0-d794ec1d2763')\"\n",
              "              title=\"Convert this dataframe to an interactive table.\"\n",
              "              style=\"display:none;\">\n",
              "        \n",
              "  <svg xmlns=\"http://www.w3.org/2000/svg\" height=\"24px\"viewBox=\"0 0 24 24\"\n",
              "       width=\"24px\">\n",
              "    <path d=\"M0 0h24v24H0V0z\" fill=\"none\"/>\n",
              "    <path d=\"M18.56 5.44l.94 2.06.94-2.06 2.06-.94-2.06-.94-.94-2.06-.94 2.06-2.06.94zm-11 1L8.5 8.5l.94-2.06 2.06-.94-2.06-.94L8.5 2.5l-.94 2.06-2.06.94zm10 10l.94 2.06.94-2.06 2.06-.94-2.06-.94-.94-2.06-.94 2.06-2.06.94z\"/><path d=\"M17.41 7.96l-1.37-1.37c-.4-.4-.92-.59-1.43-.59-.52 0-1.04.2-1.43.59L10.3 9.45l-7.72 7.72c-.78.78-.78 2.05 0 2.83L4 21.41c.39.39.9.59 1.41.59.51 0 1.02-.2 1.41-.59l7.78-7.78 2.81-2.81c.8-.78.8-2.07 0-2.86zM5.41 20L4 18.59l7.72-7.72 1.47 1.35L5.41 20z\"/>\n",
              "  </svg>\n",
              "      </button>\n",
              "      \n",
              "  <style>\n",
              "    .colab-df-container {\n",
              "      display:flex;\n",
              "      flex-wrap:wrap;\n",
              "      gap: 12px;\n",
              "    }\n",
              "\n",
              "    .colab-df-convert {\n",
              "      background-color: #E8F0FE;\n",
              "      border: none;\n",
              "      border-radius: 50%;\n",
              "      cursor: pointer;\n",
              "      display: none;\n",
              "      fill: #1967D2;\n",
              "      height: 32px;\n",
              "      padding: 0 0 0 0;\n",
              "      width: 32px;\n",
              "    }\n",
              "\n",
              "    .colab-df-convert:hover {\n",
              "      background-color: #E2EBFA;\n",
              "      box-shadow: 0px 1px 2px rgba(60, 64, 67, 0.3), 0px 1px 3px 1px rgba(60, 64, 67, 0.15);\n",
              "      fill: #174EA6;\n",
              "    }\n",
              "\n",
              "    [theme=dark] .colab-df-convert {\n",
              "      background-color: #3B4455;\n",
              "      fill: #D2E3FC;\n",
              "    }\n",
              "\n",
              "    [theme=dark] .colab-df-convert:hover {\n",
              "      background-color: #434B5C;\n",
              "      box-shadow: 0px 1px 3px 1px rgba(0, 0, 0, 0.15);\n",
              "      filter: drop-shadow(0px 1px 2px rgba(0, 0, 0, 0.3));\n",
              "      fill: #FFFFFF;\n",
              "    }\n",
              "  </style>\n",
              "\n",
              "      <script>\n",
              "        const buttonEl =\n",
              "          document.querySelector('#df-2745f368-1567-491c-a1d0-d794ec1d2763 button.colab-df-convert');\n",
              "        buttonEl.style.display =\n",
              "          google.colab.kernel.accessAllowed ? 'block' : 'none';\n",
              "\n",
              "        async function convertToInteractive(key) {\n",
              "          const element = document.querySelector('#df-2745f368-1567-491c-a1d0-d794ec1d2763');\n",
              "          const dataTable =\n",
              "            await google.colab.kernel.invokeFunction('convertToInteractive',\n",
              "                                                     [key], {});\n",
              "          if (!dataTable) return;\n",
              "\n",
              "          const docLinkHtml = 'Like what you see? Visit the ' +\n",
              "            '<a target=\"_blank\" href=https://colab.research.google.com/notebooks/data_table.ipynb>data table notebook</a>'\n",
              "            + ' to learn more about interactive tables.';\n",
              "          element.innerHTML = '';\n",
              "          dataTable['output_type'] = 'display_data';\n",
              "          await google.colab.output.renderOutput(dataTable, element);\n",
              "          const docLink = document.createElement('div');\n",
              "          docLink.innerHTML = docLinkHtml;\n",
              "          element.appendChild(docLink);\n",
              "        }\n",
              "      </script>\n",
              "    </div>\n",
              "  </div>\n",
              "  "
            ]
          },
          "metadata": {},
          "execution_count": 71
        }
      ]
    },
    {
      "cell_type": "markdown",
      "source": [
        "licks, spend, revenue, CPM, CTR, & CPC based on Device Type. "
      ],
      "metadata": {
        "id": "4NWX2s-ZfmvD"
      }
    },
    {
      "cell_type": "code",
      "source": [
        "df.groupby(['cluster','Device Type']).sum()['Clicks'].plot(kind='bar',figsize=(12,7))\n"
      ],
      "metadata": {
        "colab": {
          "base_uri": "https://localhost:8080/",
          "height": 523
        },
        "id": "7SGEv_92eSDN",
        "outputId": "20639fdc-b73d-4e4e-ff95-561e567bdccf"
      },
      "execution_count": null,
      "outputs": [
        {
          "output_type": "execute_result",
          "data": {
            "text/plain": [
              "<AxesSubplot:xlabel='cluster,Device Type'>"
            ]
          },
          "metadata": {},
          "execution_count": 72
        },
        {
          "output_type": "display_data",
          "data": {
            "text/plain": [
              "<Figure size 864x504 with 1 Axes>"
            ],
            "image/png": "[encoded data removed]"
          },
          "metadata": {
            "needs_background": "light"
          }
        }
      ]
    },
    {
      "cell_type": "code",
      "source": [
        "df.groupby(['cluster','Device Type']).sum()['Spend'].plot(kind='bar',figsize=(12,7))\n"
      ],
      "metadata": {
        "colab": {
          "base_uri": "https://localhost:8080/",
          "height": 523
        },
        "id": "ihY0UCr_gZN-",
        "outputId": "00de13ed-4457-4058-9975-0b440a246121"
      },
      "execution_count": null,
      "outputs": [
        {
          "output_type": "execute_result",
          "data": {
            "text/plain": [
              "<AxesSubplot:xlabel='cluster,Device Type'>"
            ]
          },
          "metadata": {},
          "execution_count": 73
        },
        {
          "output_type": "display_data",
          "data": {
            "text/plain": [
              "<Figure size 864x504 with 1 Axes>"
            ],
            "image/png": "[encoded data removed]"
          },
          "metadata": {
            "needs_background": "light"
          }
        }
      ]
    },
    {
      "cell_type": "code",
      "source": [
        "df.groupby(['cluster','Device Type']).sum()['Revenue'].plot(kind='bar',figsize=(12,7))\n"
      ],
      "metadata": {
        "colab": {
          "base_uri": "https://localhost:8080/",
          "height": 523
        },
        "id": "_5Ww_XHHgdbV",
        "outputId": "54d90e2a-2004-44fc-8e48-649f7c1abf76"
      },
      "execution_count": null,
      "outputs": [
        {
          "output_type": "execute_result",
          "data": {
            "text/plain": [
              "<AxesSubplot:xlabel='cluster,Device Type'>"
            ]
          },
          "metadata": {},
          "execution_count": 74
        },
        {
          "output_type": "display_data",
          "data": {
            "text/plain": [
              "<Figure size 864x504 with 1 Axes>"
            ],
            "image/png": "[encoded data removed]"
          },
          "metadata": {
            "needs_background": "light"
          }
        }
      ]
    },
    {
      "cell_type": "code",
      "source": [
        "df.groupby(['cluster','Device Type']).sum()['CPM'].plot(kind='bar',figsize=(12,7))\n"
      ],
      "metadata": {
        "colab": {
          "base_uri": "https://localhost:8080/",
          "height": 512
        },
        "id": "zUIBm1nfggCx",
        "outputId": "cb9f5b1b-78d6-4268-93ea-b9b028fcbaef"
      },
      "execution_count": null,
      "outputs": [
        {
          "output_type": "execute_result",
          "data": {
            "text/plain": [
              "<AxesSubplot:xlabel='cluster,Device Type'>"
            ]
          },
          "metadata": {},
          "execution_count": 75
        },
        {
          "output_type": "display_data",
          "data": {
            "text/plain": [
              "<Figure size 864x504 with 1 Axes>"
            ],
            "image/png": "[encoded data removed]"
          },
          "metadata": {
            "needs_background": "light"
          }
        }
      ]
    },
    {
      "cell_type": "code",
      "source": [
        "df.groupby(['cluster','Device Type']).sum()['CTR'].plot(kind='bar',figsize=(12,7))\n"
      ],
      "metadata": {
        "colab": {
          "base_uri": "https://localhost:8080/",
          "height": 512
        },
        "id": "AhEI9CUFgit2",
        "outputId": "a18357ab-41a2-43d4-d70e-4202e0318c56"
      },
      "execution_count": null,
      "outputs": [
        {
          "output_type": "execute_result",
          "data": {
            "text/plain": [
              "<AxesSubplot:xlabel='cluster,Device Type'>"
            ]
          },
          "metadata": {},
          "execution_count": 76
        },
        {
          "output_type": "display_data",
          "data": {
            "text/plain": [
              "<Figure size 864x504 with 1 Axes>"
            ],
            "image/png": "[encoded data removed]"
          },
          "metadata": {
            "needs_background": "light"
          }
        }
      ]
    },
    {
      "cell_type": "code",
      "source": [
        "df.groupby(['cluster','Device Type']).sum()['CPC'].plot(kind='bar',figsize=(12,7))\n"
      ],
      "metadata": {
        "colab": {
          "base_uri": "https://localhost:8080/",
          "height": 512
        },
        "id": "9taz9H0tgm-2",
        "outputId": "0a03ef4b-d7dd-44f7-9963-e3d16d305177"
      },
      "execution_count": null,
      "outputs": [
        {
          "output_type": "execute_result",
          "data": {
            "text/plain": [
              "<AxesSubplot:xlabel='cluster,Device Type'>"
            ]
          },
          "metadata": {},
          "execution_count": 77
        },
        {
          "output_type": "display_data",
          "data": {
            "text/plain": [
              "<Figure size 864x504 with 1 Axes>"
            ],
            "image/png": "[encoded data removed]"
          },
          "metadata": {
            "needs_background": "light"
          }
        }
      ]
    },
    {
      "cell_type": "code",
      "source": [
        "cols_visualise = ['Ad - Length', 'Ad- Width', 'Ad Size', 'Clicks', 'Spend','Revenue']\n",
        "\n",
        "for col in cols_visualise:\n",
        "    sns.boxplot(x ='cluster', y = col, data = df)\n",
        "    plt.show()"
      ],
      "metadata": {
        "colab": {
          "base_uri": "https://localhost:8080/",
          "height": 1000
        },
        "id": "WU5KGpE83jU1",
        "outputId": "7c63c528-b48f-4440-cc7c-02ccf29e88fa"
      },
      "execution_count": null,
      "outputs": [
        {
          "output_type": "display_data",
          "data": {
            "text/plain": [
              "<Figure size 432x288 with 1 Axes>"
            ],
            "image/png": "[encoded data removed]"
          },
          "metadata": {
            "needs_background": "light"
          }
        },
        {
          "output_type": "display_data",
          "data": {
            "text/plain": [
              "<Figure size 432x288 with 1 Axes>"
            ],
            "image/png": "[encoded data removed]"
          },
          "metadata": {
            "needs_background": "light"
          }
        },
        {
          "output_type": "display_data",
          "data": {
            "text/plain": [
              "<Figure size 432x288 with 1 Axes>"
            ],
            "image/png": "[encoded data removed]"
          },
          "metadata": {
            "needs_background": "light"
          }
        },
        {
          "output_type": "display_data",
          "data": {
            "text/plain": [
              "<Figure size 432x288 with 1 Axes>"
            ],
            "image/png": "[encoded data removed]"
          },
          "metadata": {
            "needs_background": "light"
          }
        },
        {
          "output_type": "display_data",
          "data": {
            "text/plain": [
              "<Figure size 432x288 with 1 Axes>"
            ],
            "image/png": "[encoded data removed]"
          },
          "metadata": {
            "needs_background": "light"
          }
        },
        {
          "output_type": "display_data",
          "data": {
            "text/plain": [
              "<Figure size 432x288 with 1 Axes>"
            ],
            "image/png": "[encoded data removed]"
          },
          "metadata": {
            "needs_background": "light"
          }
        }
      ]
    },
    {
      "cell_type": "code",
      "source": [
        "centroids  = k_means2.cluster_centers_  \n",
        "centroids"
      ],
      "metadata": {
        "colab": {
          "base_uri": "https://localhost:8080/"
        },
        "id": "qFocKS2UET-U",
        "outputId": "7b3f8832-7bc9-4797-d739-a309f49a22c1"
      },
      "execution_count": null,
      "outputs": [
        {
          "output_type": "execute_result",
          "data": {
            "text/plain": [
              "array([[-0.09014165,  0.07291532, -0.23245088, -0.02748906, -0.22182223,\n",
              "        -0.22586461],\n",
              "       [ 1.28448102, -1.03901298,  3.31232832,  0.39170772,  3.16087444,\n",
              "         3.21847668]])"
            ]
          },
          "metadata": {},
          "execution_count": 79
        }
      ]
    },
    {
      "cell_type": "code",
      "source": [
        "plt.scatter(df_number['Clicks'],df_number['Spend'], c=df['cluster'], s=50, cmap='viridis')\n"
      ],
      "metadata": {
        "colab": {
          "base_uri": "https://localhost:8080/",
          "height": 283
        },
        "id": "Yccjv0lG0WZU",
        "outputId": "7faa5339-0bcb-4c48-9df0-b0d322f20f8a"
      },
      "execution_count": null,
      "outputs": [
        {
          "output_type": "execute_result",
          "data": {
            "text/plain": [
              "<matplotlib.collections.PathCollection at 0x7f60f971a850>"
            ]
          },
          "metadata": {},
          "execution_count": 80
        },
        {
          "output_type": "display_data",
          "data": {
            "text/plain": [
              "<Figure size 432x288 with 1 Axes>"
            ],
            "image/png": "[encoded data removed]"
          },
          "metadata": {
            "needs_background": "light"
          }
        }
      ]
    },
    {
      "cell_type": "code",
      "source": [
        "fig = plt.figure(figsize=(20, 10))\n",
        "ax1 = fig.add_subplot(1, 2, 1, projection='3d')\n",
        "ax1.scatter([\"Fresh\"],df[\"Milk\"],df[\"Grocery\"],c=df['cluster'].astype('category'),cmap = \"viridis\",edgecolor=\"k\", s=150)\n",
        "ax1.view_init(20, -50)\n",
        "ax1.set_xlabel(\"Fresh\", fontsize=20)\n",
        "ax1.set_ylabel(\"Milk\", fontsize=20)\n",
        "ax1.set_zlabel(\"Grocery\", fontsize=20)\n",
        "ax1.set_title(\"K-Means Clusters for wholesale data\", fontsize=12)\n"
      ],
      "metadata": {
        "id": "KQwkcZuUZCgF",
        "colab": {
          "base_uri": "https://localhost:8080/",
          "height": 1000
        },
        "outputId": "4c453be3-9037-47ee-a868-c320b4bf345e"
      },
      "execution_count": null,
      "outputs": [
        {
          "output_type": "error",
          "ename": "KeyError",
          "evalue": "ignored",
          "traceback": [
            "\u001b[0;31m---------------------------------------------------------------------------\u001b[0m",
            "\u001b[0;31mKeyError\u001b[0m                                  Traceback (most recent call last)",
            "\u001b[0;32m/usr/local/lib/python3.9/dist-packages/pandas/core/indexes/base.py\u001b[0m in \u001b[0;36mget_loc\u001b[0;34m(self, key, method, tolerance)\u001b[0m\n\u001b[1;32m   3360\u001b[0m             \u001b[0;32mtry\u001b[0m\u001b[0;34m:\u001b[0m\u001b[0;34m\u001b[0m\u001b[0;34m\u001b[0m\u001b[0m\n\u001b[0;32m-> 3361\u001b[0;31m                 \u001b[0;32mreturn\u001b[0m \u001b[0mself\u001b[0m\u001b[0;34m.\u001b[0m\u001b[0m_engine\u001b[0m\u001b[0;34m.\u001b[0m\u001b[0mget_loc\u001b[0m\u001b[0;34m(\u001b[0m\u001b[0mcasted_key\u001b[0m\u001b[0;34m)\u001b[0m\u001b[0;34m\u001b[0m\u001b[0;34m\u001b[0m\u001b[0m\n\u001b[0m\u001b[1;32m   3362\u001b[0m             \u001b[0;32mexcept\u001b[0m \u001b[0mKeyError\u001b[0m \u001b[0;32mas\u001b[0m \u001b[0merr\u001b[0m\u001b[0;34m:\u001b[0m\u001b[0;34m\u001b[0m\u001b[0;34m\u001b[0m\u001b[0m\n",
            "\u001b[0;32m/usr/local/lib/python3.9/dist-packages/pandas/_libs/index.pyx\u001b[0m in \u001b[0;36mpandas._libs.index.IndexEngine.get_loc\u001b[0;34m()\u001b[0m\n",
            "\u001b[0;32m/usr/local/lib/python3.9/dist-packages/pandas/_libs/index.pyx\u001b[0m in \u001b[0;36mpandas._libs.index.IndexEngine.get_loc\u001b[0;34m()\u001b[0m\n",
            "\u001b[0;32mpandas/_libs/hashtable_class_helper.pxi\u001b[0m in \u001b[0;36mpandas._libs.hashtable.PyObjectHashTable.get_item\u001b[0;34m()\u001b[0m\n",
            "\u001b[0;32mpandas/_libs/hashtable_class_helper.pxi\u001b[0m in \u001b[0;36mpandas._libs.hashtable.PyObjectHashTable.get_item\u001b[0;34m()\u001b[0m\n",
            "\u001b[0;31mKeyError\u001b[0m: 'Milk'",
            "\nThe above exception was the direct cause of the following exception:\n",
            "\u001b[0;31mKeyError\u001b[0m                                  Traceback (most recent call last)",
            "\u001b[0;32m<ipython-input-81-a40d69310f9b>\u001b[0m in \u001b[0;36m<module>\u001b[0;34m\u001b[0m\n\u001b[1;32m      1\u001b[0m \u001b[0mfig\u001b[0m \u001b[0;34m=\u001b[0m \u001b[0mplt\u001b[0m\u001b[0;34m.\u001b[0m\u001b[0mfigure\u001b[0m\u001b[0;34m(\u001b[0m\u001b[0mfigsize\u001b[0m\u001b[0;34m=\u001b[0m\u001b[0;34m(\u001b[0m\u001b[0;36m20\u001b[0m\u001b[0;34m,\u001b[0m \u001b[0;36m10\u001b[0m\u001b[0;34m)\u001b[0m\u001b[0;34m)\u001b[0m\u001b[0;34m\u001b[0m\u001b[0;34m\u001b[0m\u001b[0m\n\u001b[1;32m      2\u001b[0m \u001b[0max1\u001b[0m \u001b[0;34m=\u001b[0m \u001b[0mfig\u001b[0m\u001b[0;34m.\u001b[0m\u001b[0madd_subplot\u001b[0m\u001b[0;34m(\u001b[0m\u001b[0;36m1\u001b[0m\u001b[0;34m,\u001b[0m \u001b[0;36m2\u001b[0m\u001b[0;34m,\u001b[0m \u001b[0;36m1\u001b[0m\u001b[0;34m,\u001b[0m \u001b[0mprojection\u001b[0m\u001b[0;34m=\u001b[0m\u001b[0;34m'3d'\u001b[0m\u001b[0;34m)\u001b[0m\u001b[0;34m\u001b[0m\u001b[0;34m\u001b[0m\u001b[0m\n\u001b[0;32m----> 3\u001b[0;31m \u001b[0max1\u001b[0m\u001b[0;34m.\u001b[0m\u001b[0mscatter\u001b[0m\u001b[0;34m(\u001b[0m\u001b[0;34m[\u001b[0m\u001b[0;34m\"Fresh\"\u001b[0m\u001b[0;34m]\u001b[0m\u001b[0;34m,\u001b[0m\u001b[0mdf\u001b[0m\u001b[0;34m[\u001b[0m\u001b[0;34m\"Milk\"\u001b[0m\u001b[0;34m]\u001b[0m\u001b[0;34m,\u001b[0m\u001b[0mdf\u001b[0m\u001b[0;34m[\u001b[0m\u001b[0;34m\"Grocery\"\u001b[0m\u001b[0;34m]\u001b[0m\u001b[0;34m,\u001b[0m\u001b[0mc\u001b[0m\u001b[0;34m=\u001b[0m\u001b[0mdf\u001b[0m\u001b[0;34m[\u001b[0m\u001b[0;34m'cluster'\u001b[0m\u001b[0;34m]\u001b[0m\u001b[0;34m.\u001b[0m\u001b[0mastype\u001b[0m\u001b[0;34m(\u001b[0m\u001b[0;34m'category'\u001b[0m\u001b[0;34m)\u001b[0m\u001b[0;34m,\u001b[0m\u001b[0mcmap\u001b[0m \u001b[0;34m=\u001b[0m \u001b[0;34m\"viridis\"\u001b[0m\u001b[0;34m,\u001b[0m\u001b[0medgecolor\u001b[0m\u001b[0;34m=\u001b[0m\u001b[0;34m\"k\"\u001b[0m\u001b[0;34m,\u001b[0m \u001b[0ms\u001b[0m\u001b[0;34m=\u001b[0m\u001b[0;36m150\u001b[0m\u001b[0;34m)\u001b[0m\u001b[0;34m\u001b[0m\u001b[0;34m\u001b[0m\u001b[0m\n\u001b[0m\u001b[1;32m      4\u001b[0m \u001b[0max1\u001b[0m\u001b[0;34m.\u001b[0m\u001b[0mview_init\u001b[0m\u001b[0;34m(\u001b[0m\u001b[0;36m20\u001b[0m\u001b[0;34m,\u001b[0m \u001b[0;34m-\u001b[0m\u001b[0;36m50\u001b[0m\u001b[0;34m)\u001b[0m\u001b[0;34m\u001b[0m\u001b[0;34m\u001b[0m\u001b[0m\n\u001b[1;32m      5\u001b[0m \u001b[0max1\u001b[0m\u001b[0;34m.\u001b[0m\u001b[0mset_xlabel\u001b[0m\u001b[0;34m(\u001b[0m\u001b[0;34m\"Fresh\"\u001b[0m\u001b[0;34m,\u001b[0m \u001b[0mfontsize\u001b[0m\u001b[0;34m=\u001b[0m\u001b[0;36m20\u001b[0m\u001b[0;34m)\u001b[0m\u001b[0;34m\u001b[0m\u001b[0;34m\u001b[0m\u001b[0m\n",
            "\u001b[0;32m/usr/local/lib/python3.9/dist-packages/pandas/core/frame.py\u001b[0m in \u001b[0;36m__getitem__\u001b[0;34m(self, key)\u001b[0m\n\u001b[1;32m   3456\u001b[0m             \u001b[0;32mif\u001b[0m \u001b[0mself\u001b[0m\u001b[0;34m.\u001b[0m\u001b[0mcolumns\u001b[0m\u001b[0;34m.\u001b[0m\u001b[0mnlevels\u001b[0m \u001b[0;34m>\u001b[0m \u001b[0;36m1\u001b[0m\u001b[0;34m:\u001b[0m\u001b[0;34m\u001b[0m\u001b[0;34m\u001b[0m\u001b[0m\n\u001b[1;32m   3457\u001b[0m                 \u001b[0;32mreturn\u001b[0m \u001b[0mself\u001b[0m\u001b[0;34m.\u001b[0m\u001b[0m_getitem_multilevel\u001b[0m\u001b[0;34m(\u001b[0m\u001b[0mkey\u001b[0m\u001b[0;34m)\u001b[0m\u001b[0;34m\u001b[0m\u001b[0;34m\u001b[0m\u001b[0m\n\u001b[0;32m-> 3458\u001b[0;31m             \u001b[0mindexer\u001b[0m \u001b[0;34m=\u001b[0m \u001b[0mself\u001b[0m\u001b[0;34m.\u001b[0m\u001b[0mcolumns\u001b[0m\u001b[0;34m.\u001b[0m\u001b[0mget_loc\u001b[0m\u001b[0;34m(\u001b[0m\u001b[0mkey\u001b[0m\u001b[0;34m)\u001b[0m\u001b[0;34m\u001b[0m\u001b[0;34m\u001b[0m\u001b[0m\n\u001b[0m\u001b[1;32m   3459\u001b[0m             \u001b[0;32mif\u001b[0m \u001b[0mis_integer\u001b[0m\u001b[0;34m(\u001b[0m\u001b[0mindexer\u001b[0m\u001b[0;34m)\u001b[0m\u001b[0;34m:\u001b[0m\u001b[0;34m\u001b[0m\u001b[0;34m\u001b[0m\u001b[0m\n\u001b[1;32m   3460\u001b[0m                 \u001b[0mindexer\u001b[0m \u001b[0;34m=\u001b[0m \u001b[0;34m[\u001b[0m\u001b[0mindexer\u001b[0m\u001b[0;34m]\u001b[0m\u001b[0;34m\u001b[0m\u001b[0;34m\u001b[0m\u001b[0m\n",
            "\u001b[0;32m/usr/local/lib/python3.9/dist-packages/pandas/core/indexes/base.py\u001b[0m in \u001b[0;36mget_loc\u001b[0;34m(self, key, method, tolerance)\u001b[0m\n\u001b[1;32m   3361\u001b[0m                 \u001b[0;32mreturn\u001b[0m \u001b[0mself\u001b[0m\u001b[0;34m.\u001b[0m\u001b[0m_engine\u001b[0m\u001b[0;34m.\u001b[0m\u001b[0mget_loc\u001b[0m\u001b[0;34m(\u001b[0m\u001b[0mcasted_key\u001b[0m\u001b[0;34m)\u001b[0m\u001b[0;34m\u001b[0m\u001b[0;34m\u001b[0m\u001b[0m\n\u001b[1;32m   3362\u001b[0m             \u001b[0;32mexcept\u001b[0m \u001b[0mKeyError\u001b[0m \u001b[0;32mas\u001b[0m \u001b[0merr\u001b[0m\u001b[0;34m:\u001b[0m\u001b[0;34m\u001b[0m\u001b[0;34m\u001b[0m\u001b[0m\n\u001b[0;32m-> 3363\u001b[0;31m                 \u001b[0;32mraise\u001b[0m \u001b[0mKeyError\u001b[0m\u001b[0;34m(\u001b[0m\u001b[0mkey\u001b[0m\u001b[0;34m)\u001b[0m \u001b[0;32mfrom\u001b[0m \u001b[0merr\u001b[0m\u001b[0;34m\u001b[0m\u001b[0;34m\u001b[0m\u001b[0m\n\u001b[0m\u001b[1;32m   3364\u001b[0m \u001b[0;34m\u001b[0m\u001b[0m\n\u001b[1;32m   3365\u001b[0m         \u001b[0;32mif\u001b[0m \u001b[0mis_scalar\u001b[0m\u001b[0;34m(\u001b[0m\u001b[0mkey\u001b[0m\u001b[0;34m)\u001b[0m \u001b[0;32mand\u001b[0m \u001b[0misna\u001b[0m\u001b[0;34m(\u001b[0m\u001b[0mkey\u001b[0m\u001b[0;34m)\u001b[0m \u001b[0;32mand\u001b[0m \u001b[0;32mnot\u001b[0m \u001b[0mself\u001b[0m\u001b[0;34m.\u001b[0m\u001b[0mhasnans\u001b[0m\u001b[0;34m:\u001b[0m\u001b[0;34m\u001b[0m\u001b[0;34m\u001b[0m\u001b[0m\n",
            "\u001b[0;31mKeyError\u001b[0m: 'Milk'"
          ]
        },
        {
          "output_type": "display_data",
          "data": {
            "text/plain": [
              "<Figure size 1440x720 with 1 Axes>"
            ],
            "image/png": "[encoded data removed]"
          },
          "metadata": {
            "needs_background": "light"
          }
        }
      ]
    },
    {
      "cell_type": "code",
      "source": [],
      "metadata": {
        "id": "YgIuWqEbEWk3"
      },
      "execution_count": null,
      "outputs": []
    },
    {
      "cell_type": "code",
      "source": [
        "from sklearn.metrics import silhouette_samples, silhouette_score"
      ],
      "metadata": {
        "id": "a5hjgPKnMc6R"
      },
      "execution_count": null,
      "outputs": []
    },
    {
      "cell_type": "code",
      "source": [
        "silhouette_score(Y,labels)\n"
      ],
      "metadata": {
        "id": "IdEsNOcfbNaD"
      },
      "execution_count": null,
      "outputs": []
    },
    {
      "cell_type": "markdown",
      "source": [
        "silhouette score is non negative closer to 1 ,so effective number of  cluster"
      ],
      "metadata": {
        "id": "Nva6r20-b40F"
      }
    },
    {
      "cell_type": "code",
      "source": [],
      "metadata": {
        "id": "lYaQkQNAcE3_"
      },
      "execution_count": null,
      "outputs": []
    }
  ]
}